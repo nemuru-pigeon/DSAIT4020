{
 "cells": [
  {
   "cell_type": "markdown",
   "metadata": {},
   "source": [
    "### Import library"
   ]
  },
  {
   "cell_type": "code",
   "execution_count": 292,
   "metadata": {},
   "outputs": [],
   "source": [
    "import numpy as np\n",
    "import pandas as pd\n",
    "\n",
    "from sklearn.model_selection import GridSearchCV, train_test_split, KFold, cross_val_score\n",
    "from sklearn.preprocessing import StandardScaler, MinMaxScaler\n",
    "from sklearn.pipeline import Pipeline\n",
    "from sklearn.metrics import classification_report, accuracy_score, mean_squared_error\n",
    "\n",
    "from sklearn.decomposition import PCA, NMF\n",
    "from sklearn.cluster import KMeans\n",
    "from sklearn.cluster import AgglomerativeClustering\n",
    "\n",
    "from sklearn.dummy import DummyClassifier\n",
    "from sklearn.tree import DecisionTreeClassifier\n",
    "from sklearn.svm import SVC\n",
    "from sklearn.ensemble import RandomForestClassifier\n",
    "\n",
    "from imblearn.over_sampling import SMOTE\n",
    "from imblearn.pipeline import Pipeline as ImbPipeline\n",
    "\n",
    "import matplotlib.pyplot as plt"
   ]
  },
  {
   "cell_type": "code",
   "execution_count": 293,
   "metadata": {},
   "outputs": [],
   "source": [
    "female_df = pd.read_pickle('preprocessed_data/female_self_data.pkl')\n",
    "male_df = pd.read_pickle('preprocessed_data/male_self_data.pkl')\n",
    "match_df = pd.read_pickle('preprocessed_data/match_data.pkl')"
   ]
  },
  {
   "cell_type": "markdown",
   "metadata": {},
   "source": [
    "### Implement the model\n",
    "1. According to personal features, grouping the people\n",
    "2. Analysis the preferance for that group of people\n",
    "3. For test data, classify the person according to the cluster results\n",
    "4. Using perferance in step 2 to justify whether the date could success"
   ]
  },
  {
   "cell_type": "markdown",
   "metadata": {},
   "source": [
    "#### Preproccessing"
   ]
  },
  {
   "cell_type": "code",
   "execution_count": 294,
   "metadata": {},
   "outputs": [],
   "source": [
    "additional_train = ['interests_correlate']\n",
    "\n",
    "female_df.drop(labels=['race', 'field'], axis=1)\n",
    "male_df.drop(labels=['race', 'field'], axis=1)\n",
    "\n",
    "# divide the data into training and test part\n",
    "female_train, female_test = train_test_split(female_df, test_size=0.1, random_state=0)\n",
    "# male_train, male_test = train_test_split(male_df, test_size=0.1, random_state=0)"
   ]
  },
  {
   "cell_type": "markdown",
   "metadata": {},
   "source": [
    "### Clustering"
   ]
  },
  {
   "cell_type": "code",
   "execution_count": 295,
   "metadata": {},
   "outputs": [
    {
     "name": "stdout",
     "output_type": "stream",
     "text": [
      "(246, 38)\n"
     ]
    }
   ],
   "source": [
    "#Remove categorical values\n",
    "# features = female_train.drop(labels=['race', 'field'], axis=1)\n",
    "n_features = len(female_train.columns)\n",
    "std_scaler = StandardScaler()\n",
    "normalized_features = std_scaler.fit_transform(female_train)\n",
    "min_max_scaler = MinMaxScaler()\n",
    "normalized_features = min_max_scaler.fit_transform(normalized_features)\n",
    "print(normalized_features.shape)"
   ]
  },
  {
   "cell_type": "markdown",
   "metadata": {},
   "source": [
    "#### NMF"
   ]
  },
  {
   "cell_type": "code",
   "execution_count": 296,
   "metadata": {},
   "outputs": [
    {
     "name": "stdout",
     "output_type": "stream",
     "text": [
      "Components: 1, Score: 0.04128632942595829\n",
      "Components: 2, Score: 0.03712592638902879\n",
      "Components: 3, Score: 0.03395417191730056\n",
      "Components: 4, Score: 0.030261875552512484\n",
      "Components: 5, Score: 0.028079290863493745\n"
     ]
    },
    {
     "name": "stderr",
     "output_type": "stream",
     "text": [
      "d:\\Programming\\anaconda3\\envs\\esl_env\\lib\\site-packages\\sklearn\\decomposition\\_nmf.py:1759: ConvergenceWarning: Maximum number of iterations 200 reached. Increase it to improve convergence.\n",
      "  warnings.warn(\n",
      "d:\\Programming\\anaconda3\\envs\\esl_env\\lib\\site-packages\\sklearn\\decomposition\\_nmf.py:1759: ConvergenceWarning: Maximum number of iterations 200 reached. Increase it to improve convergence.\n",
      "  warnings.warn(\n",
      "d:\\Programming\\anaconda3\\envs\\esl_env\\lib\\site-packages\\sklearn\\decomposition\\_nmf.py:1759: ConvergenceWarning: Maximum number of iterations 200 reached. Increase it to improve convergence.\n",
      "  warnings.warn(\n",
      "d:\\Programming\\anaconda3\\envs\\esl_env\\lib\\site-packages\\sklearn\\decomposition\\_nmf.py:1759: ConvergenceWarning: Maximum number of iterations 200 reached. Increase it to improve convergence.\n",
      "  warnings.warn(\n",
      "d:\\Programming\\anaconda3\\envs\\esl_env\\lib\\site-packages\\sklearn\\decomposition\\_nmf.py:1759: ConvergenceWarning: Maximum number of iterations 200 reached. Increase it to improve convergence.\n",
      "  warnings.warn(\n",
      "d:\\Programming\\anaconda3\\envs\\esl_env\\lib\\site-packages\\sklearn\\decomposition\\_nmf.py:1759: ConvergenceWarning: Maximum number of iterations 200 reached. Increase it to improve convergence.\n",
      "  warnings.warn(\n",
      "d:\\Programming\\anaconda3\\envs\\esl_env\\lib\\site-packages\\sklearn\\decomposition\\_nmf.py:1759: ConvergenceWarning: Maximum number of iterations 200 reached. Increase it to improve convergence.\n",
      "  warnings.warn(\n",
      "d:\\Programming\\anaconda3\\envs\\esl_env\\lib\\site-packages\\sklearn\\decomposition\\_nmf.py:1759: ConvergenceWarning: Maximum number of iterations 200 reached. Increase it to improve convergence.\n",
      "  warnings.warn(\n",
      "d:\\Programming\\anaconda3\\envs\\esl_env\\lib\\site-packages\\sklearn\\decomposition\\_nmf.py:1759: ConvergenceWarning: Maximum number of iterations 200 reached. Increase it to improve convergence.\n",
      "  warnings.warn(\n",
      "d:\\Programming\\anaconda3\\envs\\esl_env\\lib\\site-packages\\sklearn\\decomposition\\_nmf.py:1759: ConvergenceWarning: Maximum number of iterations 200 reached. Increase it to improve convergence.\n",
      "  warnings.warn(\n",
      "d:\\Programming\\anaconda3\\envs\\esl_env\\lib\\site-packages\\sklearn\\decomposition\\_nmf.py:1759: ConvergenceWarning: Maximum number of iterations 200 reached. Increase it to improve convergence.\n",
      "  warnings.warn(\n",
      "d:\\Programming\\anaconda3\\envs\\esl_env\\lib\\site-packages\\sklearn\\decomposition\\_nmf.py:1759: ConvergenceWarning: Maximum number of iterations 200 reached. Increase it to improve convergence.\n",
      "  warnings.warn(\n",
      "d:\\Programming\\anaconda3\\envs\\esl_env\\lib\\site-packages\\sklearn\\decomposition\\_nmf.py:1759: ConvergenceWarning: Maximum number of iterations 200 reached. Increase it to improve convergence.\n",
      "  warnings.warn(\n",
      "d:\\Programming\\anaconda3\\envs\\esl_env\\lib\\site-packages\\sklearn\\decomposition\\_nmf.py:1759: ConvergenceWarning: Maximum number of iterations 200 reached. Increase it to improve convergence.\n",
      "  warnings.warn(\n",
      "d:\\Programming\\anaconda3\\envs\\esl_env\\lib\\site-packages\\sklearn\\decomposition\\_nmf.py:1759: ConvergenceWarning: Maximum number of iterations 200 reached. Increase it to improve convergence.\n",
      "  warnings.warn(\n",
      "d:\\Programming\\anaconda3\\envs\\esl_env\\lib\\site-packages\\sklearn\\decomposition\\_nmf.py:1759: ConvergenceWarning: Maximum number of iterations 200 reached. Increase it to improve convergence.\n",
      "  warnings.warn(\n",
      "d:\\Programming\\anaconda3\\envs\\esl_env\\lib\\site-packages\\sklearn\\decomposition\\_nmf.py:1759: ConvergenceWarning: Maximum number of iterations 200 reached. Increase it to improve convergence.\n",
      "  warnings.warn(\n",
      "d:\\Programming\\anaconda3\\envs\\esl_env\\lib\\site-packages\\sklearn\\decomposition\\_nmf.py:1759: ConvergenceWarning: Maximum number of iterations 200 reached. Increase it to improve convergence.\n",
      "  warnings.warn(\n",
      "d:\\Programming\\anaconda3\\envs\\esl_env\\lib\\site-packages\\sklearn\\decomposition\\_nmf.py:1759: ConvergenceWarning: Maximum number of iterations 200 reached. Increase it to improve convergence.\n",
      "  warnings.warn(\n",
      "d:\\Programming\\anaconda3\\envs\\esl_env\\lib\\site-packages\\sklearn\\decomposition\\_nmf.py:1759: ConvergenceWarning: Maximum number of iterations 200 reached. Increase it to improve convergence.\n",
      "  warnings.warn(\n"
     ]
    },
    {
     "name": "stdout",
     "output_type": "stream",
     "text": [
      "Components: 6, Score: 0.025842817647008964\n",
      "Components: 7, Score: 0.02415579219650326\n",
      "Components: 8, Score: 0.022650875754654045\n",
      "Components: 9, Score: 0.021086041395827485\n"
     ]
    },
    {
     "name": "stderr",
     "output_type": "stream",
     "text": [
      "d:\\Programming\\anaconda3\\envs\\esl_env\\lib\\site-packages\\sklearn\\decomposition\\_nmf.py:1759: ConvergenceWarning: Maximum number of iterations 200 reached. Increase it to improve convergence.\n",
      "  warnings.warn(\n",
      "d:\\Programming\\anaconda3\\envs\\esl_env\\lib\\site-packages\\sklearn\\decomposition\\_nmf.py:1759: ConvergenceWarning: Maximum number of iterations 200 reached. Increase it to improve convergence.\n",
      "  warnings.warn(\n",
      "d:\\Programming\\anaconda3\\envs\\esl_env\\lib\\site-packages\\sklearn\\decomposition\\_nmf.py:1759: ConvergenceWarning: Maximum number of iterations 200 reached. Increase it to improve convergence.\n",
      "  warnings.warn(\n",
      "d:\\Programming\\anaconda3\\envs\\esl_env\\lib\\site-packages\\sklearn\\decomposition\\_nmf.py:1759: ConvergenceWarning: Maximum number of iterations 200 reached. Increase it to improve convergence.\n",
      "  warnings.warn(\n",
      "d:\\Programming\\anaconda3\\envs\\esl_env\\lib\\site-packages\\sklearn\\decomposition\\_nmf.py:1759: ConvergenceWarning: Maximum number of iterations 200 reached. Increase it to improve convergence.\n",
      "  warnings.warn(\n",
      "d:\\Programming\\anaconda3\\envs\\esl_env\\lib\\site-packages\\sklearn\\decomposition\\_nmf.py:1759: ConvergenceWarning: Maximum number of iterations 200 reached. Increase it to improve convergence.\n",
      "  warnings.warn(\n",
      "d:\\Programming\\anaconda3\\envs\\esl_env\\lib\\site-packages\\sklearn\\decomposition\\_nmf.py:1759: ConvergenceWarning: Maximum number of iterations 200 reached. Increase it to improve convergence.\n",
      "  warnings.warn(\n",
      "d:\\Programming\\anaconda3\\envs\\esl_env\\lib\\site-packages\\sklearn\\decomposition\\_nmf.py:1759: ConvergenceWarning: Maximum number of iterations 200 reached. Increase it to improve convergence.\n",
      "  warnings.warn(\n",
      "d:\\Programming\\anaconda3\\envs\\esl_env\\lib\\site-packages\\sklearn\\decomposition\\_nmf.py:1759: ConvergenceWarning: Maximum number of iterations 200 reached. Increase it to improve convergence.\n",
      "  warnings.warn(\n",
      "d:\\Programming\\anaconda3\\envs\\esl_env\\lib\\site-packages\\sklearn\\decomposition\\_nmf.py:1759: ConvergenceWarning: Maximum number of iterations 200 reached. Increase it to improve convergence.\n",
      "  warnings.warn(\n",
      "d:\\Programming\\anaconda3\\envs\\esl_env\\lib\\site-packages\\sklearn\\decomposition\\_nmf.py:1759: ConvergenceWarning: Maximum number of iterations 200 reached. Increase it to improve convergence.\n",
      "  warnings.warn(\n",
      "d:\\Programming\\anaconda3\\envs\\esl_env\\lib\\site-packages\\sklearn\\decomposition\\_nmf.py:1759: ConvergenceWarning: Maximum number of iterations 200 reached. Increase it to improve convergence.\n",
      "  warnings.warn(\n",
      "d:\\Programming\\anaconda3\\envs\\esl_env\\lib\\site-packages\\sklearn\\decomposition\\_nmf.py:1759: ConvergenceWarning: Maximum number of iterations 200 reached. Increase it to improve convergence.\n",
      "  warnings.warn(\n",
      "d:\\Programming\\anaconda3\\envs\\esl_env\\lib\\site-packages\\sklearn\\decomposition\\_nmf.py:1759: ConvergenceWarning: Maximum number of iterations 200 reached. Increase it to improve convergence.\n",
      "  warnings.warn(\n",
      "d:\\Programming\\anaconda3\\envs\\esl_env\\lib\\site-packages\\sklearn\\decomposition\\_nmf.py:1759: ConvergenceWarning: Maximum number of iterations 200 reached. Increase it to improve convergence.\n",
      "  warnings.warn(\n"
     ]
    },
    {
     "name": "stdout",
     "output_type": "stream",
     "text": [
      "Components: 10, Score: 0.019285850244854692\n",
      "Best number of components: 10, Best score: 0.019285850244854692\n"
     ]
    },
    {
     "name": "stderr",
     "output_type": "stream",
     "text": [
      "d:\\Programming\\anaconda3\\envs\\esl_env\\lib\\site-packages\\sklearn\\decomposition\\_nmf.py:1759: ConvergenceWarning: Maximum number of iterations 200 reached. Increase it to improve convergence.\n",
      "  warnings.warn(\n",
      "d:\\Programming\\anaconda3\\envs\\esl_env\\lib\\site-packages\\sklearn\\decomposition\\_nmf.py:1759: ConvergenceWarning: Maximum number of iterations 200 reached. Increase it to improve convergence.\n",
      "  warnings.warn(\n",
      "d:\\Programming\\anaconda3\\envs\\esl_env\\lib\\site-packages\\sklearn\\decomposition\\_nmf.py:1759: ConvergenceWarning: Maximum number of iterations 200 reached. Increase it to improve convergence.\n",
      "  warnings.warn(\n",
      "d:\\Programming\\anaconda3\\envs\\esl_env\\lib\\site-packages\\sklearn\\decomposition\\_nmf.py:1759: ConvergenceWarning: Maximum number of iterations 200 reached. Increase it to improve convergence.\n",
      "  warnings.warn(\n",
      "d:\\Programming\\anaconda3\\envs\\esl_env\\lib\\site-packages\\sklearn\\decomposition\\_nmf.py:1759: ConvergenceWarning: Maximum number of iterations 200 reached. Increase it to improve convergence.\n",
      "  warnings.warn(\n"
     ]
    }
   ],
   "source": [
    "# Cross verification\n",
    "kf = KFold(n_splits=5, shuffle=True, random_state=42)\n",
    "\n",
    "n_components_range = range(1, 11) # verify range\n",
    "best_n_components = 0\n",
    "best_score = float('inf')\n",
    "\n",
    "# iterate different number of n_components\n",
    "avg_scores = []\n",
    "for n_components in n_components_range:\n",
    "    scores = []\n",
    "\n",
    "    for train_index, test_index in kf.split(normalized_features):\n",
    "        X_train, X_test = normalized_features[train_index], normalized_features[test_index]\n",
    "\n",
    "        model = NMF(n_components=n_components, init='random', random_state=42)\n",
    "        W = model.fit_transform(X_train)\n",
    "        H = model.components_\n",
    "\n",
    "        X_train_reconstructed = np.dot(W, H)\n",
    "        X_test_reconstructed = np.dot(model.transform(X_test), H)\n",
    "\n",
    "        score = mean_squared_error(X_test, X_test_reconstructed)\n",
    "        scores.append(score)\n",
    "\n",
    "    avg_score = np.mean(scores)\n",
    "    avg_scores.append(avg_score)\n",
    "\n",
    "    print(f\"Components: {n_components}, Score: {avg_score}\")\n",
    "\n",
    "    if avg_score < best_score:\n",
    "        best_score = avg_score\n",
    "        best_n_components = n_components\n",
    "\n",
    "print(f\"Best number of components: {best_n_components}, Best score: {best_score}\")"
   ]
  },
  {
   "cell_type": "code",
   "execution_count": 297,
   "metadata": {},
   "outputs": [
    {
     "data": {
      "image/png": "[encoded data removed]",
      "text/plain": [
       "<Figure size 800x500 with 1 Axes>"
      ]
     },
     "metadata": {},
     "output_type": "display_data"
    }
   ],
   "source": [
    "# draw the n_components vs avg_score\n",
    "plt.figure(figsize=(8, 5))\n",
    "plt.plot(n_components_range, avg_scores, marker='o')\n",
    "plt.xlabel('Number of Components (n)')\n",
    "plt.ylabel('Average score of the loss')\n",
    "plt.title('Cross Validation for NMF')\n",
    "plt.show()"
   ]
  },
  {
   "cell_type": "code",
   "execution_count": 298,
   "metadata": {},
   "outputs": [
    {
     "name": "stdout",
     "output_type": "stream",
     "text": [
      "(246, 3)\n",
      "(3, 38)\n"
     ]
    },
    {
     "name": "stderr",
     "output_type": "stream",
     "text": [
      "d:\\Programming\\anaconda3\\envs\\esl_env\\lib\\site-packages\\sklearn\\decomposition\\_nmf.py:1759: ConvergenceWarning: Maximum number of iterations 200 reached. Increase it to improve convergence.\n",
      "  warnings.warn(\n"
     ]
    }
   ],
   "source": [
    "nmf_model = NMF(n_components=3, init='random', random_state=0)  # 3\n",
    "W = nmf_model.fit_transform(normalized_features)\n",
    "H = nmf_model.components_\n",
    "print(W.shape)\n",
    "print(H.shape)"
   ]
  },
  {
   "cell_type": "markdown",
   "metadata": {},
   "source": [
    "#### PCA"
   ]
  },
  {
   "cell_type": "code",
   "execution_count": 299,
   "metadata": {},
   "outputs": [
    {
     "name": "stdout",
     "output_type": "stream",
     "text": [
      "Components: 1, Score: 0.0409718752634911\n",
      "Components: 2, Score: 0.03621703015525853\n",
      "Components: 3, Score: 0.032816000860238254\n",
      "Components: 4, Score: 0.02933322306636\n",
      "Components: 5, Score: 0.026735410859834708\n",
      "Components: 6, Score: 0.024900099993866477\n",
      "Components: 7, Score: 0.02324620991591608\n",
      "Components: 8, Score: 0.02157886647411462\n",
      "Components: 9, Score: 0.020190009971783152\n",
      "Components: 10, Score: 0.018675804306282233\n",
      "Best number of components: 10, Best score: 0.018675804306282233\n"
     ]
    }
   ],
   "source": [
    "# Cross verification\n",
    "best_n_components = 0\n",
    "best_score = float('inf')\n",
    "\n",
    "# iterate different number of n_components\n",
    "avg_scores = []\n",
    "for n_components in n_components_range:\n",
    "    scores = []\n",
    "\n",
    "    for train_index, test_index in kf.split(normalized_features):\n",
    "        X_train, X_test = normalized_features[train_index], normalized_features[test_index]\n",
    "\n",
    "        model = PCA(n_components=n_components, random_state=42)\n",
    "        X_train_reduced = model.fit_transform(X_train)\n",
    "        X_test_reduced = model.transform(X_test)\n",
    "        X_test_reconstructed = model.inverse_transform(X_test_reduced)\n",
    "\n",
    "        score = mean_squared_error(X_test, X_test_reconstructed)\n",
    "        scores.append(score)\n",
    "\n",
    "    avg_score = np.mean(scores)\n",
    "    avg_scores.append(avg_score)\n",
    "\n",
    "    print(f\"Components: {n_components}, Score: {avg_score}\")\n",
    "\n",
    "    if avg_score < best_score:\n",
    "        best_score = avg_score\n",
    "        best_n_components = n_components\n",
    "\n",
    "print(f\"Best number of components: {best_n_components}, Best score: {best_score}\")"
   ]
  },
  {
   "cell_type": "code",
   "execution_count": 300,
   "metadata": {},
   "outputs": [
    {
     "data": {
      "image/png": "[encoded data removed]",
      "text/plain": [
       "<Figure size 800x500 with 1 Axes>"
      ]
     },
     "metadata": {},
     "output_type": "display_data"
    }
   ],
   "source": [
    "# draw the n_components vs avg_score\n",
    "plt.figure(figsize=(8, 5))\n",
    "plt.plot(n_components_range, avg_scores, marker='o')\n",
    "plt.xlabel('Number of Components (n)')\n",
    "plt.ylabel('Average score of the loss')\n",
    "plt.title('Cross Validation for PCA')\n",
    "plt.show()"
   ]
  },
  {
   "cell_type": "code",
   "execution_count": 301,
   "metadata": {},
   "outputs": [
    {
     "name": "stdout",
     "output_type": "stream",
     "text": [
      "(246, 5)\n"
     ]
    }
   ],
   "source": [
    "pca_model = PCA(n_components=5, random_state=0)  # 5\n",
    "feature_reduced = pca_model.fit_transform(normalized_features)\n",
    "print(feature_reduced.shape)\n",
    "# W = feature_reduced"
   ]
  },
  {
   "cell_type": "markdown",
   "metadata": {},
   "source": [
    "#### K-means"
   ]
  },
  {
   "cell_type": "code",
   "execution_count": 302,
   "metadata": {},
   "outputs": [
    {
     "name": "stderr",
     "output_type": "stream",
     "text": [
      "d:\\Programming\\anaconda3\\envs\\esl_env\\lib\\site-packages\\sklearn\\cluster\\_kmeans.py:1429: UserWarning: KMeans is known to have a memory leak on Windows with MKL, when there are less chunks than available threads. You can avoid it by setting the environment variable OMP_NUM_THREADS=1.\n",
      "  warnings.warn(\n",
      "d:\\Programming\\anaconda3\\envs\\esl_env\\lib\\site-packages\\sklearn\\cluster\\_kmeans.py:1429: UserWarning: KMeans is known to have a memory leak on Windows with MKL, when there are less chunks than available threads. You can avoid it by setting the environment variable OMP_NUM_THREADS=1.\n",
      "  warnings.warn(\n",
      "d:\\Programming\\anaconda3\\envs\\esl_env\\lib\\site-packages\\sklearn\\cluster\\_kmeans.py:1429: UserWarning: KMeans is known to have a memory leak on Windows with MKL, when there are less chunks than available threads. You can avoid it by setting the environment variable OMP_NUM_THREADS=1.\n",
      "  warnings.warn(\n",
      "d:\\Programming\\anaconda3\\envs\\esl_env\\lib\\site-packages\\sklearn\\cluster\\_kmeans.py:1429: UserWarning: KMeans is known to have a memory leak on Windows with MKL, when there are less chunks than available threads. You can avoid it by setting the environment variable OMP_NUM_THREADS=1.\n",
      "  warnings.warn(\n",
      "d:\\Programming\\anaconda3\\envs\\esl_env\\lib\\site-packages\\sklearn\\cluster\\_kmeans.py:1429: UserWarning: KMeans is known to have a memory leak on Windows with MKL, when there are less chunks than available threads. You can avoid it by setting the environment variable OMP_NUM_THREADS=1.\n",
      "  warnings.warn(\n",
      "d:\\Programming\\anaconda3\\envs\\esl_env\\lib\\site-packages\\sklearn\\cluster\\_kmeans.py:1429: UserWarning: KMeans is known to have a memory leak on Windows with MKL, when there are less chunks than available threads. You can avoid it by setting the environment variable OMP_NUM_THREADS=1.\n",
      "  warnings.warn(\n",
      "d:\\Programming\\anaconda3\\envs\\esl_env\\lib\\site-packages\\sklearn\\cluster\\_kmeans.py:1429: UserWarning: KMeans is known to have a memory leak on Windows with MKL, when there are less chunks than available threads. You can avoid it by setting the environment variable OMP_NUM_THREADS=1.\n",
      "  warnings.warn(\n",
      "d:\\Programming\\anaconda3\\envs\\esl_env\\lib\\site-packages\\sklearn\\cluster\\_kmeans.py:1429: UserWarning: KMeans is known to have a memory leak on Windows with MKL, when there are less chunks than available threads. You can avoid it by setting the environment variable OMP_NUM_THREADS=1.\n",
      "  warnings.warn(\n",
      "d:\\Programming\\anaconda3\\envs\\esl_env\\lib\\site-packages\\sklearn\\cluster\\_kmeans.py:1429: UserWarning: KMeans is known to have a memory leak on Windows with MKL, when there are less chunks than available threads. You can avoid it by setting the environment variable OMP_NUM_THREADS=1.\n",
      "  warnings.warn(\n",
      "d:\\Programming\\anaconda3\\envs\\esl_env\\lib\\site-packages\\sklearn\\cluster\\_kmeans.py:1429: UserWarning: KMeans is known to have a memory leak on Windows with MKL, when there are less chunks than available threads. You can avoid it by setting the environment variable OMP_NUM_THREADS=1.\n",
      "  warnings.warn(\n",
      "d:\\Programming\\anaconda3\\envs\\esl_env\\lib\\site-packages\\sklearn\\cluster\\_kmeans.py:1429: UserWarning: KMeans is known to have a memory leak on Windows with MKL, when there are less chunks than available threads. You can avoid it by setting the environment variable OMP_NUM_THREADS=1.\n",
      "  warnings.warn(\n",
      "d:\\Programming\\anaconda3\\envs\\esl_env\\lib\\site-packages\\sklearn\\cluster\\_kmeans.py:1429: UserWarning: KMeans is known to have a memory leak on Windows with MKL, when there are less chunks than available threads. You can avoid it by setting the environment variable OMP_NUM_THREADS=1.\n",
      "  warnings.warn(\n",
      "d:\\Programming\\anaconda3\\envs\\esl_env\\lib\\site-packages\\sklearn\\cluster\\_kmeans.py:1429: UserWarning: KMeans is known to have a memory leak on Windows with MKL, when there are less chunks than available threads. You can avoid it by setting the environment variable OMP_NUM_THREADS=1.\n",
      "  warnings.warn(\n",
      "d:\\Programming\\anaconda3\\envs\\esl_env\\lib\\site-packages\\sklearn\\cluster\\_kmeans.py:1429: UserWarning: KMeans is known to have a memory leak on Windows with MKL, when there are less chunks than available threads. You can avoid it by setting the environment variable OMP_NUM_THREADS=1.\n",
      "  warnings.warn(\n"
     ]
    },
    {
     "data": {
      "image/png": "[encoded data removed]",
      "text/plain": [
       "<Figure size 800x500 with 1 Axes>"
      ]
     },
     "metadata": {},
     "output_type": "display_data"
    }
   ],
   "source": [
    "# use elbow method\n",
    "inertia = []\n",
    "k_range = range(1, 15)\n",
    "\n",
    "for k in k_range:\n",
    "    kmeans = KMeans(n_clusters=k, random_state=42)\n",
    "    # kmeans.fit(normalized_features)\n",
    "    kmeans.fit(W)\n",
    "    inertia.append(kmeans.inertia_)\n",
    "\n",
    "# draw the elbow figure\n",
    "plt.figure(figsize=(8, 5))\n",
    "plt.plot(k_range, inertia, marker='o')\n",
    "plt.xlabel('Number of Clusters (k)')\n",
    "plt.ylabel('Inertia')\n",
    "plt.title('Elbow Method for Optimal k')\n",
    "plt.show()"
   ]
  },
  {
   "cell_type": "code",
   "execution_count": 303,
   "metadata": {},
   "outputs": [
    {
     "name": "stderr",
     "output_type": "stream",
     "text": [
      "d:\\Programming\\anaconda3\\envs\\esl_env\\lib\\site-packages\\sklearn\\cluster\\_kmeans.py:1429: UserWarning: KMeans is known to have a memory leak on Windows with MKL, when there are less chunks than available threads. You can avoid it by setting the environment variable OMP_NUM_THREADS=1.\n",
      "  warnings.warn(\n"
     ]
    },
    {
     "data": {
      "text/html": [
       "<style>#sk-container-id-9 {\n",
       "  /* Definition of color scheme common for light and dark mode */\n",
       "  --sklearn-color-text: black;\n",
       "  --sklearn-color-line: gray;\n",
       "  /* Definition of color scheme for unfitted estimators */\n",
       "  --sklearn-color-unfitted-level-0: #fff5e6;\n",
       "  --sklearn-color-unfitted-level-1: #f6e4d2;\n",
       "  --sklearn-color-unfitted-level-2: #ffe0b3;\n",
       "  --sklearn-color-unfitted-level-3: chocolate;\n",
       "  /* Definition of color scheme for fitted estimators */\n",
       "  --sklearn-color-fitted-level-0: #f0f8ff;\n",
       "  --sklearn-color-fitted-level-1: #d4ebff;\n",
       "  --sklearn-color-fitted-level-2: #b3dbfd;\n",
       "  --sklearn-color-fitted-level-3: cornflowerblue;\n",
       "\n",
       "  /* Specific color for light theme */\n",
       "  --sklearn-color-text-on-default-background: var(--sg-text-color, var(--theme-code-foreground, var(--jp-content-font-color1, black)));\n",
       "  --sklearn-color-background: var(--sg-background-color, var(--theme-background, var(--jp-layout-color0, white)));\n",
       "  --sklearn-color-border-box: var(--sg-text-color, var(--theme-code-foreground, var(--jp-content-font-color1, black)));\n",
       "  --sklearn-color-icon: #696969;\n",
       "\n",
       "  @media (prefers-color-scheme: dark) {\n",
       "    /* Redefinition of color scheme for dark theme */\n",
       "    --sklearn-color-text-on-default-background: var(--sg-text-color, var(--theme-code-foreground, var(--jp-content-font-color1, white)));\n",
       "    --sklearn-color-background: var(--sg-background-color, var(--theme-background, var(--jp-layout-color0, #111)));\n",
       "    --sklearn-color-border-box: var(--sg-text-color, var(--theme-code-foreground, var(--jp-content-font-color1, white)));\n",
       "    --sklearn-color-icon: #878787;\n",
       "  }\n",
       "}\n",
       "\n",
       "#sk-container-id-9 {\n",
       "  color: var(--sklearn-color-text);\n",
       "}\n",
       "\n",
       "#sk-container-id-9 pre {\n",
       "  padding: 0;\n",
       "}\n",
       "\n",
       "#sk-container-id-9 input.sk-hidden--visually {\n",
       "  border: 0;\n",
       "  clip: rect(1px 1px 1px 1px);\n",
       "  clip: rect(1px, 1px, 1px, 1px);\n",
       "  height: 1px;\n",
       "  margin: -1px;\n",
       "  overflow: hidden;\n",
       "  padding: 0;\n",
       "  position: absolute;\n",
       "  width: 1px;\n",
       "}\n",
       "\n",
       "#sk-container-id-9 div.sk-dashed-wrapped {\n",
       "  border: 1px dashed var(--sklearn-color-line);\n",
       "  margin: 0 0.4em 0.5em 0.4em;\n",
       "  box-sizing: border-box;\n",
       "  padding-bottom: 0.4em;\n",
       "  background-color: var(--sklearn-color-background);\n",
       "}\n",
       "\n",
       "#sk-container-id-9 div.sk-container {\n",
       "  /* jupyter's `normalize.less` sets `[hidden] { display: none; }`\n",
       "     but bootstrap.min.css set `[hidden] { display: none !important; }`\n",
       "     so we also need the `!important` here to be able to override the\n",
       "     default hidden behavior on the sphinx rendered scikit-learn.org.\n",
       "     See: https://github.com/scikit-learn/scikit-learn/issues/21755 */\n",
       "  display: inline-block !important;\n",
       "  position: relative;\n",
       "}\n",
       "\n",
       "#sk-container-id-9 div.sk-text-repr-fallback {\n",
       "  display: none;\n",
       "}\n",
       "\n",
       "div.sk-parallel-item,\n",
       "div.sk-serial,\n",
       "div.sk-item {\n",
       "  /* draw centered vertical line to link estimators */\n",
       "  background-image: linear-gradient(var(--sklearn-color-text-on-default-background), var(--sklearn-color-text-on-default-background));\n",
       "  background-size: 2px 100%;\n",
       "  background-repeat: no-repeat;\n",
       "  background-position: center center;\n",
       "}\n",
       "\n",
       "/* Parallel-specific style estimator block */\n",
       "\n",
       "#sk-container-id-9 div.sk-parallel-item::after {\n",
       "  content: \"\";\n",
       "  width: 100%;\n",
       "  border-bottom: 2px solid var(--sklearn-color-text-on-default-background);\n",
       "  flex-grow: 1;\n",
       "}\n",
       "\n",
       "#sk-container-id-9 div.sk-parallel {\n",
       "  display: flex;\n",
       "  align-items: stretch;\n",
       "  justify-content: center;\n",
       "  background-color: var(--sklearn-color-background);\n",
       "  position: relative;\n",
       "}\n",
       "\n",
       "#sk-container-id-9 div.sk-parallel-item {\n",
       "  display: flex;\n",
       "  flex-direction: column;\n",
       "}\n",
       "\n",
       "#sk-container-id-9 div.sk-parallel-item:first-child::after {\n",
       "  align-self: flex-end;\n",
       "  width: 50%;\n",
       "}\n",
       "\n",
       "#sk-container-id-9 div.sk-parallel-item:last-child::after {\n",
       "  align-self: flex-start;\n",
       "  width: 50%;\n",
       "}\n",
       "\n",
       "#sk-container-id-9 div.sk-parallel-item:only-child::after {\n",
       "  width: 0;\n",
       "}\n",
       "\n",
       "/* Serial-specific style estimator block */\n",
       "\n",
       "#sk-container-id-9 div.sk-serial {\n",
       "  display: flex;\n",
       "  flex-direction: column;\n",
       "  align-items: center;\n",
       "  background-color: var(--sklearn-color-background);\n",
       "  padding-right: 1em;\n",
       "  padding-left: 1em;\n",
       "}\n",
       "\n",
       "\n",
       "/* Toggleable style: style used for estimator/Pipeline/ColumnTransformer box that is\n",
       "clickable and can be expanded/collapsed.\n",
       "- Pipeline and ColumnTransformer use this feature and define the default style\n",
       "- Estimators will overwrite some part of the style using the `sk-estimator` class\n",
       "*/\n",
       "\n",
       "/* Pipeline and ColumnTransformer style (default) */\n",
       "\n",
       "#sk-container-id-9 div.sk-toggleable {\n",
       "  /* Default theme specific background. It is overwritten whether we have a\n",
       "  specific estimator or a Pipeline/ColumnTransformer */\n",
       "  background-color: var(--sklearn-color-background);\n",
       "}\n",
       "\n",
       "/* Toggleable label */\n",
       "#sk-container-id-9 label.sk-toggleable__label {\n",
       "  cursor: pointer;\n",
       "  display: block;\n",
       "  width: 100%;\n",
       "  margin-bottom: 0;\n",
       "  padding: 0.5em;\n",
       "  box-sizing: border-box;\n",
       "  text-align: center;\n",
       "}\n",
       "\n",
       "#sk-container-id-9 label.sk-toggleable__label-arrow:before {\n",
       "  /* Arrow on the left of the label */\n",
       "  content: \"▸\";\n",
       "  float: left;\n",
       "  margin-right: 0.25em;\n",
       "  color: var(--sklearn-color-icon);\n",
       "}\n",
       "\n",
       "#sk-container-id-9 label.sk-toggleable__label-arrow:hover:before {\n",
       "  color: var(--sklearn-color-text);\n",
       "}\n",
       "\n",
       "/* Toggleable content - dropdown */\n",
       "\n",
       "#sk-container-id-9 div.sk-toggleable__content {\n",
       "  max-height: 0;\n",
       "  max-width: 0;\n",
       "  overflow: hidden;\n",
       "  text-align: left;\n",
       "  /* unfitted */\n",
       "  background-color: var(--sklearn-color-unfitted-level-0);\n",
       "}\n",
       "\n",
       "#sk-container-id-9 div.sk-toggleable__content.fitted {\n",
       "  /* fitted */\n",
       "  background-color: var(--sklearn-color-fitted-level-0);\n",
       "}\n",
       "\n",
       "#sk-container-id-9 div.sk-toggleable__content pre {\n",
       "  margin: 0.2em;\n",
       "  border-radius: 0.25em;\n",
       "  color: var(--sklearn-color-text);\n",
       "  /* unfitted */\n",
       "  background-color: var(--sklearn-color-unfitted-level-0);\n",
       "}\n",
       "\n",
       "#sk-container-id-9 div.sk-toggleable__content.fitted pre {\n",
       "  /* unfitted */\n",
       "  background-color: var(--sklearn-color-fitted-level-0);\n",
       "}\n",
       "\n",
       "#sk-container-id-9 input.sk-toggleable__control:checked~div.sk-toggleable__content {\n",
       "  /* Expand drop-down */\n",
       "  max-height: 200px;\n",
       "  max-width: 100%;\n",
       "  overflow: auto;\n",
       "}\n",
       "\n",
       "#sk-container-id-9 input.sk-toggleable__control:checked~label.sk-toggleable__label-arrow:before {\n",
       "  content: \"▾\";\n",
       "}\n",
       "\n",
       "/* Pipeline/ColumnTransformer-specific style */\n",
       "\n",
       "#sk-container-id-9 div.sk-label input.sk-toggleable__control:checked~label.sk-toggleable__label {\n",
       "  color: var(--sklearn-color-text);\n",
       "  background-color: var(--sklearn-color-unfitted-level-2);\n",
       "}\n",
       "\n",
       "#sk-container-id-9 div.sk-label.fitted input.sk-toggleable__control:checked~label.sk-toggleable__label {\n",
       "  background-color: var(--sklearn-color-fitted-level-2);\n",
       "}\n",
       "\n",
       "/* Estimator-specific style */\n",
       "\n",
       "/* Colorize estimator box */\n",
       "#sk-container-id-9 div.sk-estimator input.sk-toggleable__control:checked~label.sk-toggleable__label {\n",
       "  /* unfitted */\n",
       "  background-color: var(--sklearn-color-unfitted-level-2);\n",
       "}\n",
       "\n",
       "#sk-container-id-9 div.sk-estimator.fitted input.sk-toggleable__control:checked~label.sk-toggleable__label {\n",
       "  /* fitted */\n",
       "  background-color: var(--sklearn-color-fitted-level-2);\n",
       "}\n",
       "\n",
       "#sk-container-id-9 div.sk-label label.sk-toggleable__label,\n",
       "#sk-container-id-9 div.sk-label label {\n",
       "  /* The background is the default theme color */\n",
       "  color: var(--sklearn-color-text-on-default-background);\n",
       "}\n",
       "\n",
       "/* On hover, darken the color of the background */\n",
       "#sk-container-id-9 div.sk-label:hover label.sk-toggleable__label {\n",
       "  color: var(--sklearn-color-text);\n",
       "  background-color: var(--sklearn-color-unfitted-level-2);\n",
       "}\n",
       "\n",
       "/* Label box, darken color on hover, fitted */\n",
       "#sk-container-id-9 div.sk-label.fitted:hover label.sk-toggleable__label.fitted {\n",
       "  color: var(--sklearn-color-text);\n",
       "  background-color: var(--sklearn-color-fitted-level-2);\n",
       "}\n",
       "\n",
       "/* Estimator label */\n",
       "\n",
       "#sk-container-id-9 div.sk-label label {\n",
       "  font-family: monospace;\n",
       "  font-weight: bold;\n",
       "  display: inline-block;\n",
       "  line-height: 1.2em;\n",
       "}\n",
       "\n",
       "#sk-container-id-9 div.sk-label-container {\n",
       "  text-align: center;\n",
       "}\n",
       "\n",
       "/* Estimator-specific */\n",
       "#sk-container-id-9 div.sk-estimator {\n",
       "  font-family: monospace;\n",
       "  border: 1px dotted var(--sklearn-color-border-box);\n",
       "  border-radius: 0.25em;\n",
       "  box-sizing: border-box;\n",
       "  margin-bottom: 0.5em;\n",
       "  /* unfitted */\n",
       "  background-color: var(--sklearn-color-unfitted-level-0);\n",
       "}\n",
       "\n",
       "#sk-container-id-9 div.sk-estimator.fitted {\n",
       "  /* fitted */\n",
       "  background-color: var(--sklearn-color-fitted-level-0);\n",
       "}\n",
       "\n",
       "/* on hover */\n",
       "#sk-container-id-9 div.sk-estimator:hover {\n",
       "  /* unfitted */\n",
       "  background-color: var(--sklearn-color-unfitted-level-2);\n",
       "}\n",
       "\n",
       "#sk-container-id-9 div.sk-estimator.fitted:hover {\n",
       "  /* fitted */\n",
       "  background-color: var(--sklearn-color-fitted-level-2);\n",
       "}\n",
       "\n",
       "/* Specification for estimator info (e.g. \"i\" and \"?\") */\n",
       "\n",
       "/* Common style for \"i\" and \"?\" */\n",
       "\n",
       ".sk-estimator-doc-link,\n",
       "a:link.sk-estimator-doc-link,\n",
       "a:visited.sk-estimator-doc-link {\n",
       "  float: right;\n",
       "  font-size: smaller;\n",
       "  line-height: 1em;\n",
       "  font-family: monospace;\n",
       "  background-color: var(--sklearn-color-background);\n",
       "  border-radius: 1em;\n",
       "  height: 1em;\n",
       "  width: 1em;\n",
       "  text-decoration: none !important;\n",
       "  margin-left: 1ex;\n",
       "  /* unfitted */\n",
       "  border: var(--sklearn-color-unfitted-level-1) 1pt solid;\n",
       "  color: var(--sklearn-color-unfitted-level-1);\n",
       "}\n",
       "\n",
       ".sk-estimator-doc-link.fitted,\n",
       "a:link.sk-estimator-doc-link.fitted,\n",
       "a:visited.sk-estimator-doc-link.fitted {\n",
       "  /* fitted */\n",
       "  border: var(--sklearn-color-fitted-level-1) 1pt solid;\n",
       "  color: var(--sklearn-color-fitted-level-1);\n",
       "}\n",
       "\n",
       "/* On hover */\n",
       "div.sk-estimator:hover .sk-estimator-doc-link:hover,\n",
       ".sk-estimator-doc-link:hover,\n",
       "div.sk-label-container:hover .sk-estimator-doc-link:hover,\n",
       ".sk-estimator-doc-link:hover {\n",
       "  /* unfitted */\n",
       "  background-color: var(--sklearn-color-unfitted-level-3);\n",
       "  color: var(--sklearn-color-background);\n",
       "  text-decoration: none;\n",
       "}\n",
       "\n",
       "div.sk-estimator.fitted:hover .sk-estimator-doc-link.fitted:hover,\n",
       ".sk-estimator-doc-link.fitted:hover,\n",
       "div.sk-label-container:hover .sk-estimator-doc-link.fitted:hover,\n",
       ".sk-estimator-doc-link.fitted:hover {\n",
       "  /* fitted */\n",
       "  background-color: var(--sklearn-color-fitted-level-3);\n",
       "  color: var(--sklearn-color-background);\n",
       "  text-decoration: none;\n",
       "}\n",
       "\n",
       "/* Span, style for the box shown on hovering the info icon */\n",
       ".sk-estimator-doc-link span {\n",
       "  display: none;\n",
       "  z-index: 9999;\n",
       "  position: relative;\n",
       "  font-weight: normal;\n",
       "  right: .2ex;\n",
       "  padding: .5ex;\n",
       "  margin: .5ex;\n",
       "  width: min-content;\n",
       "  min-width: 20ex;\n",
       "  max-width: 50ex;\n",
       "  color: var(--sklearn-color-text);\n",
       "  box-shadow: 2pt 2pt 4pt #999;\n",
       "  /* unfitted */\n",
       "  background: var(--sklearn-color-unfitted-level-0);\n",
       "  border: .5pt solid var(--sklearn-color-unfitted-level-3);\n",
       "}\n",
       "\n",
       ".sk-estimator-doc-link.fitted span {\n",
       "  /* fitted */\n",
       "  background: var(--sklearn-color-fitted-level-0);\n",
       "  border: var(--sklearn-color-fitted-level-3);\n",
       "}\n",
       "\n",
       ".sk-estimator-doc-link:hover span {\n",
       "  display: block;\n",
       "}\n",
       "\n",
       "/* \"?\"-specific style due to the `<a>` HTML tag */\n",
       "\n",
       "#sk-container-id-9 a.estimator_doc_link {\n",
       "  float: right;\n",
       "  font-size: 1rem;\n",
       "  line-height: 1em;\n",
       "  font-family: monospace;\n",
       "  background-color: var(--sklearn-color-background);\n",
       "  border-radius: 1rem;\n",
       "  height: 1rem;\n",
       "  width: 1rem;\n",
       "  text-decoration: none;\n",
       "  /* unfitted */\n",
       "  color: var(--sklearn-color-unfitted-level-1);\n",
       "  border: var(--sklearn-color-unfitted-level-1) 1pt solid;\n",
       "}\n",
       "\n",
       "#sk-container-id-9 a.estimator_doc_link.fitted {\n",
       "  /* fitted */\n",
       "  border: var(--sklearn-color-fitted-level-1) 1pt solid;\n",
       "  color: var(--sklearn-color-fitted-level-1);\n",
       "}\n",
       "\n",
       "/* On hover */\n",
       "#sk-container-id-9 a.estimator_doc_link:hover {\n",
       "  /* unfitted */\n",
       "  background-color: var(--sklearn-color-unfitted-level-3);\n",
       "  color: var(--sklearn-color-background);\n",
       "  text-decoration: none;\n",
       "}\n",
       "\n",
       "#sk-container-id-9 a.estimator_doc_link.fitted:hover {\n",
       "  /* fitted */\n",
       "  background-color: var(--sklearn-color-fitted-level-3);\n",
       "}\n",
       "</style><div id=\"sk-container-id-9\" class=\"sk-top-container\"><div class=\"sk-text-repr-fallback\"><pre>KMeans(n_clusters=4, random_state=42)</pre><b>In a Jupyter environment, please rerun this cell to show the HTML representation or trust the notebook. <br />On GitHub, the HTML representation is unable to render, please try loading this page with nbviewer.org.</b></div><div class=\"sk-container\" hidden><div class=\"sk-item\"><div class=\"sk-estimator fitted sk-toggleable\"><input class=\"sk-toggleable__control sk-hidden--visually\" id=\"sk-estimator-id-9\" type=\"checkbox\" checked><label for=\"sk-estimator-id-9\" class=\"sk-toggleable__label fitted sk-toggleable__label-arrow fitted\">&nbsp;&nbsp;KMeans<a class=\"sk-estimator-doc-link fitted\" rel=\"noreferrer\" target=\"_blank\" href=\"https://scikit-learn.org/1.5/modules/generated/sklearn.cluster.KMeans.html\">?<span>Documentation for KMeans</span></a><span class=\"sk-estimator-doc-link fitted\">i<span>Fitted</span></span></label><div class=\"sk-toggleable__content fitted\"><pre>KMeans(n_clusters=4, random_state=42)</pre></div> </div></div></div></div>"
      ],
      "text/plain": [
       "KMeans(n_clusters=4, random_state=42)"
      ]
     },
     "execution_count": 303,
     "metadata": {},
     "output_type": "execute_result"
    }
   ],
   "source": [
    "# kmeans\n",
    "k = 4\n",
    "cluster_model = KMeans(n_clusters=k, random_state=42)\n",
    "cluster_model.fit(W)"
   ]
  },
  {
   "cell_type": "markdown",
   "metadata": {},
   "source": [
    "#### Hierarchical Clustering"
   ]
  },
  {
   "cell_type": "code",
   "execution_count": 304,
   "metadata": {},
   "outputs": [],
   "source": [
    "# Hierarchical Clustering\n",
    "# k = 5\n",
    "# cluster_model = AgglomerativeClustering(n_clusters=k, linkage='average')\n",
    "# cluster_model.fit(normalized_features)"
   ]
  },
  {
   "cell_type": "code",
   "execution_count": 305,
   "metadata": {},
   "outputs": [
    {
     "name": "stdout",
     "output_type": "stream",
     "text": [
      "246\n"
     ]
    }
   ],
   "source": [
    "# get the result labels\n",
    "print(len(cluster_model.labels_))\n",
    "female_train['cluster'] = cluster_model.labels_"
   ]
  },
  {
   "cell_type": "markdown",
   "metadata": {},
   "source": [
    "### Select the correspoding male for each group of female"
   ]
  },
  {
   "cell_type": "code",
   "execution_count": 306,
   "metadata": {},
   "outputs": [
    {
     "name": "stderr",
     "output_type": "stream",
     "text": [
      "C:\\Users\\nemuru\\AppData\\Local\\Temp\\ipykernel_3936\\2729985166.py:21: FutureWarning: The behavior of DataFrame concatenation with empty or all-NA entries is deprecated. In a future version, this will no longer exclude empty or all-NA columns when determining the result dtypes. To retain the old behavior, exclude the relevant entries before the concat operation.\n",
      "  dic_X[i] = pd.concat([dic_X[i], combined_group])\n",
      "C:\\Users\\nemuru\\AppData\\Local\\Temp\\ipykernel_3936\\2729985166.py:21: FutureWarning: The behavior of DataFrame concatenation with empty or all-NA entries is deprecated. In a future version, this will no longer exclude empty or all-NA columns when determining the result dtypes. To retain the old behavior, exclude the relevant entries before the concat operation.\n",
      "  dic_X[i] = pd.concat([dic_X[i], combined_group])\n",
      "C:\\Users\\nemuru\\AppData\\Local\\Temp\\ipykernel_3936\\2729985166.py:21: FutureWarning: The behavior of DataFrame concatenation with empty or all-NA entries is deprecated. In a future version, this will no longer exclude empty or all-NA columns when determining the result dtypes. To retain the old behavior, exclude the relevant entries before the concat operation.\n",
      "  dic_X[i] = pd.concat([dic_X[i], combined_group])\n",
      "C:\\Users\\nemuru\\AppData\\Local\\Temp\\ipykernel_3936\\2729985166.py:21: FutureWarning: The behavior of DataFrame concatenation with empty or all-NA entries is deprecated. In a future version, this will no longer exclude empty or all-NA columns when determining the result dtypes. To retain the old behavior, exclude the relevant entries before the concat operation.\n",
      "  dic_X[i] = pd.concat([dic_X[i], combined_group])\n"
     ]
    },
    {
     "name": "stdout",
     "output_type": "stream",
     "text": [
      "dict_keys([0, 1, 2, 3])\n",
      "(1047, 39)\n",
      "1047\n",
      "1047\n",
      "Count each group's number of training samples:\n",
      "1047\n",
      "880\n",
      "586\n",
      "1262\n"
     ]
    }
   ],
   "source": [
    "# A dictionary that stores training data for each group\n",
    "dic_X = {}\n",
    "dic_y = {}\n",
    "dic_y_decision = {} # also train classifier for attribute \"decision\"\n",
    "train_data_coloumns = list(male_df.columns) + additional_train\n",
    "# print(train_data_coloumns)\n",
    "\n",
    "for i in range(k):\n",
    "    dic_X[i] = pd.DataFrame(columns=train_data_coloumns)\n",
    "    dic_y[i] = []\n",
    "    dic_y_decision[i] = []\n",
    "\n",
    "    female_group = female_train[female_train['cluster'] == i]\n",
    "    for index, row in female_group.iterrows():\n",
    "        male_group = match_df.loc[match_df['female_id'] == index]\n",
    "        # print(male_group)\n",
    "        combined_group = male_df.loc[male_group['male_id']]\n",
    "        combined_group[additional_train] = male_group[additional_train].values\n",
    "        # print(combined_group)\n",
    "\n",
    "        dic_X[i] = pd.concat([dic_X[i], combined_group])\n",
    "        dic_y[i].extend(male_group['match'].tolist())\n",
    "        dic_y_decision[i].extend(male_group['decision'].tolist())\n",
    "\n",
    "print(dic_X.keys())\n",
    "print(dic_X[0].shape)\n",
    "# print(dic_X[0].dtypes)\n",
    "# print(dic_X[0].iloc[0])\n",
    "print(len(dic_y[0]))\n",
    "print(len(dic_y_decision[0]))\n",
    "# print(dic_y[0])\n",
    "\n",
    "print(\"Count each group's number of training samples:\")\n",
    "for i in range(k):\n",
    "    print(len(dic_y[i]))"
   ]
  },
  {
   "cell_type": "markdown",
   "metadata": {},
   "source": [
    "### Classification for every label\n",
    "#### Feature \"match\""
   ]
  },
  {
   "cell_type": "code",
   "execution_count": 307,
   "metadata": {},
   "outputs": [],
   "source": [
    "# baseline\n",
    "dclf = DummyClassifier(strategy='most_frequent', random_state=0)\n",
    "\n",
    "# build the pipeline for baseline\n",
    "pipeline_baseline = Pipeline([\n",
    "    ('standard_scaler', StandardScaler()),  # standardize\n",
    "    ('minmax_scaler', MinMaxScaler()),      # normalize\n",
    "    ('baseline', dclf)         # random guessing baseline\n",
    "])\n",
    "\n",
    "baseline_models = {}\n",
    "for i in range(k):\n",
    "    baseline_models[i] = pipeline_baseline.fit(dic_X[i], dic_y[i]) # train the model"
   ]
  },
  {
   "cell_type": "code",
   "execution_count": 308,
   "metadata": {},
   "outputs": [],
   "source": [
    "# decision tree\n",
    "pipeline_dt = Pipeline([\n",
    "    ('dt', DecisionTreeClassifier(random_state=0))  # dt\n",
    "])\n",
    "\n",
    "# hyper-parameters grid\n",
    "param_grid_dt = {\n",
    "    'dt__max_depth': [None, 10, 20, 30, 40],\n",
    "    'dt__min_samples_split': [2, 5, 10],\n",
    "    'dt__min_samples_leaf': [1, 2, 4],\n",
    "    'dt__criterion': ['gini', 'entropy']\n",
    "}"
   ]
  },
  {
   "cell_type": "code",
   "execution_count": 309,
   "metadata": {},
   "outputs": [],
   "source": [
    "# random forest\n",
    "pipeline_rmforest = Pipeline([\n",
    "    ('scaler', StandardScaler()),                    # standardize\n",
    "    ('rf', RandomForestClassifier(random_state=42))  # random forest\n",
    "])\n",
    "# pipeline_rmforest = ImbPipeline([\n",
    "#     ('smote', SMOTE(random_state=42)),               # SMOTE 进行过采样\n",
    "#     ('scaler', StandardScaler()),                    # standardize\n",
    "#     ('rf', RandomForestClassifier(random_state=42))  # random forest\n",
    "# ])\n",
    "\n",
    "param_grid_rf = {\n",
    "    'rf__n_estimators': [50, 100, 200],\n",
    "    'rf__max_depth': [None, 10, 20],\n",
    "    'rf__min_samples_split': [2, 5],\n",
    "    'rf__min_samples_leaf': [1, 2]\n",
    "}"
   ]
  },
  {
   "cell_type": "code",
   "execution_count": 310,
   "metadata": {},
   "outputs": [],
   "source": [
    "# SVM\n",
    "# pipeline_svm = ImbPipeline([\n",
    "#     ('smote', SMOTE(random_state=42)),      # SMOTE 进行过采样\n",
    "#     ('standard_scaler', StandardScaler()),  # standardize\n",
    "#     ('minmax_scaler', MinMaxScaler()),      # normalize\n",
    "#     ('svm', SVC(random_state=42, max_iter=10000))           # svm\n",
    "# ])\n",
    "pipeline_svm = Pipeline([\n",
    "    ('standard_scaler', StandardScaler()),  # standardize\n",
    "    ('minmax_scaler', MinMaxScaler()),      # normalize\n",
    "    ('svm', SVC(random_state=42, max_iter=10000))           # svm\n",
    "])\n",
    "\n",
    "# hyper-parameters grid\n",
    "param_grid_svm = {\n",
    "    'svm__kernel': ['rbf', 'poly', 'linear', 'sigmoid'],\n",
    "    'svm__C': [0.1, 1, 10, 100],\n",
    "    'svm__gamma': ['scale', 'auto', 0.001, 0.01, 0.1, 1]\n",
    "}\n",
    "# param_grid = {\n",
    "#     'svm__C': [0.1, 1, 10],\n",
    "#     'svm__kernel': ['linear', 'rbf'],\n",
    "#     'svm__gamma': ['scale', 'auto']\n",
    "# }"
   ]
  },
  {
   "cell_type": "code",
   "execution_count": 311,
   "metadata": {},
   "outputs": [
    {
     "name": "stdout",
     "output_type": "stream",
     "text": [
      "Fitting 5 folds for each of 36 candidates, totalling 180 fits\n",
      "Fitting 5 folds for each of 36 candidates, totalling 180 fits\n",
      "Fitting 5 folds for each of 36 candidates, totalling 180 fits\n",
      "Fitting 5 folds for each of 36 candidates, totalling 180 fits\n",
      "Fitting 5 folds for each of 36 candidates, totalling 180 fits\n",
      "Fitting 5 folds for each of 36 candidates, totalling 180 fits\n",
      "Best Parameter: {'rf__max_depth': 10, 'rf__min_samples_leaf': 2, 'rf__min_samples_split': 5, 'rf__n_estimators': 50}\n",
      "Best Score: 0.8471998177261335\n",
      "Nested Score: 0.849997721576669\n",
      "Fitting 5 folds for each of 36 candidates, totalling 180 fits\n",
      "Fitting 5 folds for each of 36 candidates, totalling 180 fits\n",
      "Fitting 5 folds for each of 36 candidates, totalling 180 fits\n",
      "Fitting 5 folds for each of 36 candidates, totalling 180 fits\n",
      "Fitting 5 folds for each of 36 candidates, totalling 180 fits\n",
      "Fitting 5 folds for each of 36 candidates, totalling 180 fits\n",
      "Best Parameter: {'rf__max_depth': 10, 'rf__min_samples_leaf': 1, 'rf__min_samples_split': 5, 'rf__n_estimators': 50}\n",
      "Best Score: 0.828409090909091\n",
      "Nested Score: 0.8284090909090909\n",
      "Fitting 5 folds for each of 36 candidates, totalling 180 fits\n",
      "Fitting 5 folds for each of 36 candidates, totalling 180 fits\n",
      "Fitting 5 folds for each of 36 candidates, totalling 180 fits\n",
      "Fitting 5 folds for each of 36 candidates, totalling 180 fits\n",
      "Fitting 5 folds for each of 36 candidates, totalling 180 fits\n",
      "Fitting 5 folds for each of 36 candidates, totalling 180 fits\n",
      "Best Parameter: {'rf__max_depth': 10, 'rf__min_samples_leaf': 2, 'rf__min_samples_split': 5, 'rf__n_estimators': 100}\n",
      "Best Score: 0.7934810951760104\n",
      "Nested Score: 0.7765174561784731\n",
      "Fitting 5 folds for each of 36 candidates, totalling 180 fits\n",
      "Fitting 5 folds for each of 36 candidates, totalling 180 fits\n",
      "Fitting 5 folds for each of 36 candidates, totalling 180 fits\n",
      "Fitting 5 folds for each of 36 candidates, totalling 180 fits\n",
      "Fitting 5 folds for each of 36 candidates, totalling 180 fits\n",
      "Fitting 5 folds for each of 36 candidates, totalling 180 fits\n",
      "Best Parameter: {'rf__max_depth': 10, 'rf__min_samples_leaf': 2, 'rf__min_samples_split': 2, 'rf__n_estimators': 100}\n",
      "Best Score: 0.7987201204592509\n",
      "Nested Score: 0.8106593889202584\n"
     ]
    }
   ],
   "source": [
    "outer_cv = KFold(n_splits=5, shuffle=True, random_state=1)\n",
    "nested_scores = np.zeros(k)\n",
    "\n",
    "models = {}\n",
    "for i in range(k):\n",
    "    # using grid search and cross validation\n",
    "    models[i] = GridSearchCV(pipeline_rmforest, param_grid_rf, cv=5, scoring='accuracy', \n",
    "                             n_jobs=-1, verbose=True)\n",
    "    models[i].fit(dic_X[i], dic_y[i]) # train the model\n",
    "\n",
    "    nested_score = cross_val_score(models[i], X=dic_X[i], y=dic_y[i], cv=outer_cv)\n",
    "    nested_scores[i] = nested_score.mean()\n",
    "\n",
    "    # output the best parameter and score\n",
    "    print(\"Best Parameter:\", models[i].best_params_)\n",
    "    print(\"Best Score:\", models[i].best_score_)\n",
    "    print(\"Nested Score:\", nested_score.mean())"
   ]
  },
  {
   "cell_type": "markdown",
   "metadata": {},
   "source": [
    "#### Feature \"decision\""
   ]
  },
  {
   "cell_type": "code",
   "execution_count": 312,
   "metadata": {},
   "outputs": [],
   "source": [
    "baseline_models_decision = {}\n",
    "for i in range(k):\n",
    "    baseline_models_decision[i] = pipeline_baseline.fit(dic_X[i], dic_y_decision[i]) # train the model"
   ]
  },
  {
   "cell_type": "code",
   "execution_count": 313,
   "metadata": {},
   "outputs": [
    {
     "name": "stdout",
     "output_type": "stream",
     "text": [
      "Fitting 5 folds for each of 96 candidates, totalling 480 fits\n",
      "Fitting 5 folds for each of 96 candidates, totalling 480 fits\n",
      "Fitting 5 folds for each of 96 candidates, totalling 480 fits\n",
      "Fitting 5 folds for each of 96 candidates, totalling 480 fits\n",
      "Fitting 5 folds for each of 96 candidates, totalling 480 fits\n",
      "Fitting 5 folds for each of 96 candidates, totalling 480 fits\n",
      "Best Parameter: {'svm__C': 10, 'svm__gamma': 0.01, 'svm__kernel': 'rbf'}\n",
      "Best Score: 0.6342128047391207\n",
      "Nested Score: 0.6313192071086808\n",
      "Fitting 5 folds for each of 96 candidates, totalling 480 fits\n",
      "Fitting 5 folds for each of 96 candidates, totalling 480 fits\n",
      "Fitting 5 folds for each of 96 candidates, totalling 480 fits\n",
      "Fitting 5 folds for each of 96 candidates, totalling 480 fits\n",
      "Fitting 5 folds for each of 96 candidates, totalling 480 fits\n",
      "Fitting 5 folds for each of 96 candidates, totalling 480 fits\n",
      "Best Parameter: {'svm__C': 10, 'svm__gamma': 'auto', 'svm__kernel': 'sigmoid'}\n",
      "Best Score: 0.6625\n",
      "Nested Score: 0.6511363636363636\n",
      "Fitting 5 folds for each of 96 candidates, totalling 480 fits\n",
      "Fitting 5 folds for each of 96 candidates, totalling 480 fits\n",
      "Fitting 5 folds for each of 96 candidates, totalling 480 fits\n",
      "Fitting 5 folds for each of 96 candidates, totalling 480 fits\n",
      "Fitting 5 folds for each of 96 candidates, totalling 480 fits\n",
      "Fitting 5 folds for each of 96 candidates, totalling 480 fits\n"
     ]
    },
    {
     "name": "stderr",
     "output_type": "stream",
     "text": [
      "d:\\Programming\\anaconda3\\envs\\esl_env\\lib\\site-packages\\sklearn\\svm\\_base.py:297: ConvergenceWarning: Solver terminated early (max_iter=10000).  Consider pre-processing your data with StandardScaler or MinMaxScaler.\n",
      "  warnings.warn(\n"
     ]
    },
    {
     "name": "stdout",
     "output_type": "stream",
     "text": [
      "Best Parameter: {'svm__C': 1, 'svm__gamma': 'scale', 'svm__kernel': 'linear'}\n",
      "Best Score: 0.7388816456613068\n",
      "Nested Score: 0.7303925829349558\n",
      "Fitting 5 folds for each of 96 candidates, totalling 480 fits\n",
      "Fitting 5 folds for each of 96 candidates, totalling 480 fits\n",
      "Fitting 5 folds for each of 96 candidates, totalling 480 fits\n",
      "Fitting 5 folds for each of 96 candidates, totalling 480 fits\n",
      "Fitting 5 folds for each of 96 candidates, totalling 480 fits\n",
      "Fitting 5 folds for each of 96 candidates, totalling 480 fits\n",
      "Best Parameter: {'svm__C': 1, 'svm__gamma': 'scale', 'svm__kernel': 'linear'}\n",
      "Best Score: 0.7060323734236779\n",
      "Nested Score: 0.6965305226174792\n"
     ]
    }
   ],
   "source": [
    "nested_scores_decision = np.zeros(k)\n",
    "\n",
    "models_decision = {}\n",
    "for i in range(k):\n",
    "    # using grid search and cross validation\n",
    "    models_decision[i] = GridSearchCV(pipeline_svm, param_grid_svm, cv=5, scoring='accuracy', \n",
    "                                      n_jobs=-1, verbose=True)\n",
    "    models_decision[i].fit(dic_X[i], dic_y_decision[i]) # train the model\n",
    "\n",
    "    nested_score = cross_val_score(models_decision[i], X=dic_X[i], y=dic_y_decision[i], cv=outer_cv)\n",
    "    nested_scores_decision[i] = nested_score.mean()\n",
    "\n",
    "    # output the best parameter and score\n",
    "    print(\"Best Parameter:\", models_decision[i].best_params_)\n",
    "    print(\"Best Score:\", models_decision[i].best_score_)\n",
    "    print(\"Nested Score:\", nested_score.mean())"
   ]
  },
  {
   "cell_type": "markdown",
   "metadata": {},
   "source": [
    "### Test the models"
   ]
  },
  {
   "cell_type": "code",
   "execution_count": 314,
   "metadata": {},
   "outputs": [
    {
     "name": "stdout",
     "output_type": "stream",
     "text": [
      "(28, 38)\n"
     ]
    }
   ],
   "source": [
    "#Remove categorical values\n",
    "# test_features = female_test.drop(labels=['race', 'field'], axis=1)\n",
    "n_test_features = len(female_test.columns)\n",
    "normalized_test_features = std_scaler.fit_transform(female_test)\n",
    "normalized_test_features = min_max_scaler.fit_transform(normalized_test_features)\n",
    "print(normalized_test_features.shape)"
   ]
  },
  {
   "cell_type": "markdown",
   "metadata": {},
   "source": [
    "#### NMF + K-means"
   ]
  },
  {
   "cell_type": "code",
   "execution_count": 315,
   "metadata": {},
   "outputs": [
    {
     "name": "stdout",
     "output_type": "stream",
     "text": [
      "(28,)\n"
     ]
    }
   ],
   "source": [
    "W_test = nmf_model.transform(normalized_test_features)\n",
    "# W_test = pca_model.transform(normalized_test_features)\n",
    "predictions = cluster_model.predict(W_test)\n",
    "print(predictions.shape)"
   ]
  },
  {
   "cell_type": "markdown",
   "metadata": {},
   "source": [
    "#### Hierarchical Clustering"
   ]
  },
  {
   "cell_type": "code",
   "execution_count": 316,
   "metadata": {},
   "outputs": [],
   "source": [
    "# predictions = cluster_model.fit_predict(normalized_test_features)\n",
    "# print(predictions.shape)"
   ]
  },
  {
   "cell_type": "markdown",
   "metadata": {},
   "source": [
    "#### Get the cluster for each test data"
   ]
  },
  {
   "cell_type": "code",
   "execution_count": 317,
   "metadata": {},
   "outputs": [],
   "source": [
    "female_test['cluster'] = predictions\n",
    "# print(female_test['cluster'])"
   ]
  },
  {
   "cell_type": "markdown",
   "metadata": {},
   "source": [
    "#### Feature \"match\"\n",
    "Baseline model"
   ]
  },
  {
   "cell_type": "code",
   "execution_count": 318,
   "metadata": {},
   "outputs": [
    {
     "name": "stdout",
     "output_type": "stream",
     "text": [
      "Accuracy of the model: 0.05336099008728013\n"
     ]
    }
   ],
   "source": [
    "base_total = 0\n",
    "base_true_positive = 0\n",
    "# base_true_positive = []\n",
    "for index, row in female_test.iterrows():\n",
    "    group_num = row['cluster']\n",
    "    male_id_match = match_df.loc[match_df['female_id'] == index]\n",
    "    # print(male_id_match.shape)\n",
    "    male_test = male_df.loc[male_id_match['male_id']]\n",
    "    male_test[additional_train] = male_id_match[additional_train].values\n",
    "\n",
    "    male_predictions = baseline_models[group_num].predict(male_test)\n",
    "    base_total += male_id_match.shape[0]\n",
    "    base_true_positive += accuracy_score(male_id_match['match'].tolist(), male_predictions)\n",
    "\n",
    "    # score = baseline_models[group_num].score(male_test, male_id_match['match'].tolist())\n",
    "    # print(score)\n",
    "    # base_true_positive.append(score)\n",
    "    \n",
    "\n",
    "# predict the baseline model on the test dataset\n",
    "accuracy = base_true_positive / base_total\n",
    "# print(len(base_true_positive))\n",
    "# accuracy = base_true_positive.mean()\n",
    "print(\"Accuracy of the model:\", accuracy)\n",
    "# print(\"Confusion Matrix:\\n\", confusion_matrix(y_test, y_pred))\n",
    "# print(\"Classification Report:\\n\", classification_report(y_test, y_pred))"
   ]
  },
  {
   "cell_type": "code",
   "execution_count": 319,
   "metadata": {},
   "outputs": [
    {
     "name": "stdout",
     "output_type": "stream",
     "text": [
      "[0, 1, 0, 0, 0, 0, 0, 0, 1, 1, 0, 0, 0, 0]\n",
      "[0 0 1 0 0 0 0 0 0 0 1 0 1 0]\n",
      "[0, 0, 0, 0, 0, 0, 0, 0, 0, 0, 0, 0, 0, 0, 0, 0, 0, 0, 0, 0, 0, 0]\n",
      "[0 0 0 1 0 0 0 0 0 0 0 0 0 0 0 0 0 0 0 0 0 0]\n",
      "[0, 1, 0, 1, 0, 1, 1, 0, 0, 0, 1, 0, 1, 1, 0, 1, 1, 1, 0, 1]\n",
      "[0 0 0 0 0 0 0 0 0 0 0 0 0 0 0 1 0 0 0 0]\n",
      "[0, 1, 0, 0, 0, 1, 1, 1, 0, 0, 1, 1, 1, 0, 1, 0, 0, 0]\n",
      "[0 0 0 0 0 0 0 0 1 0 0 0 0 0 0 0 0 0]\n",
      "[0, 0, 0, 0, 0, 0, 0, 0, 0, 0, 0, 0, 0, 0, 0]\n",
      "[0 0 0 0 1 0 0 0 1 0 0 1 0 0 0]\n",
      "[0, 0, 0, 1, 1, 1, 0, 0, 0, 0, 0, 1, 0, 1, 0, 1, 1, 0]\n",
      "[0 0 0 0 0 0 0 0 0 0 0 0 0 1 0 0 0 0]\n",
      "[0, 0, 1, 0, 0, 0, 0, 0, 0, 0, 0, 0, 0, 0, 0, 0, 0, 0, 0]\n",
      "[0 0 0 1 0 0 0 0 0 0 0 0 0 1 0 0 0 0 0]\n",
      "[0, 1, 1, 1, 1, 1, 1, 0, 1, 0]\n",
      "[0 0 0 1 0 0 0 0 1 0]\n",
      "[0, 0, 0, 0, 0, 0, 1, 0, 0, 0]\n",
      "[0 0 0 1 0 0 1 0 0 0]\n",
      "[1, 0, 0, 0, 0, 1, 0, 0, 0, 0, 0, 1, 0, 1, 0, 1, 0, 0]\n",
      "[0 0 0 0 0 0 0 0 0 0 0 0 0 1 0 0 0 0]\n",
      "[0, 0, 0, 1, 0, 0, 0, 0, 0, 0, 0, 0, 0, 1, 0, 0, 0, 0, 0, 0]\n",
      "[0 0 0 1 0 1 0 0 0 0 0 0 0 0 0 0 0 0 0 0]\n",
      "[0, 0, 0, 1, 0, 1, 1, 1, 1, 0]\n",
      "[0 0 0 1 0 0 1 0 0 0]\n",
      "[0, 1, 1, 1, 1, 1, 0, 1, 1, 1]\n",
      "[0 0 0 1 0 0 0 0 1 0]\n",
      "Accuracy of the model: 0.0537046383462546\n"
     ]
    }
   ],
   "source": [
    "total = 0\n",
    "true_positive = 0\n",
    "for index, row in female_test.iterrows():\n",
    "    group_num = row['cluster']\n",
    "    male_id_match = match_df.loc[match_df['female_id'] == index]\n",
    "    # print(male_id_match.shape)\n",
    "    male_test = male_df.loc[male_id_match['male_id']]\n",
    "    male_test[additional_train] = male_id_match[additional_train].values\n",
    "\n",
    "    male_predictions = models[group_num].predict(male_test)\n",
    "    # print(male_predictions.shape)\n",
    "    # print(len(male_id_match['match'].tolist()))\n",
    "    total += male_id_match.shape[0]\n",
    "    true_positive += accuracy_score(male_id_match['match'].tolist(), male_predictions)\n",
    "    # print(male_id_match['match'].tolist())\n",
    "    # print(male_predictions)\n",
    "    \n",
    "    if not (male_predictions == 0).all().any():\n",
    "        print(male_id_match['match'].tolist())\n",
    "        print(male_predictions)\n",
    "    \n",
    "# predict the model on the test dataset\n",
    "accuracy = true_positive / total\n",
    "print(\"Accuracy of the model:\", accuracy)\n",
    "# print(\"Confusion Matrix:\\n\", confusion_matrix(y_test, y_pred))\n",
    "# print(\"Classification Report:\\n\", classification_report(y_test, y_pred))"
   ]
  },
  {
   "cell_type": "markdown",
   "metadata": {},
   "source": [
    "#### Feature \"decision\"\n",
    "Baseline model"
   ]
  },
  {
   "cell_type": "code",
   "execution_count": 320,
   "metadata": {},
   "outputs": [
    {
     "name": "stdout",
     "output_type": "stream",
     "text": [
      "Accuracy of the model: 0.040200147512591204\n"
     ]
    }
   ],
   "source": [
    "base_total = 0\n",
    "base_true_positive = 0\n",
    "# base_true_positive = []\n",
    "for index, row in female_test.iterrows():\n",
    "    group_num = row['cluster']\n",
    "    male_id_match = match_df.loc[match_df['female_id'] == index]\n",
    "    # print(male_id_match.shape)\n",
    "    male_test = male_df.loc[male_id_match['male_id']]\n",
    "    male_test[additional_train] = male_id_match[additional_train].values\n",
    "\n",
    "    male_predictions = baseline_models_decision[group_num].predict(male_test)\n",
    "    base_total += male_id_match.shape[0]\n",
    "    base_true_positive += accuracy_score(male_id_match['decision'].tolist(), male_predictions)\n",
    "\n",
    "    # score = baseline_models_decision[group_num].score(male_test, male_id_match['match'].tolist())\n",
    "    # print(score)\n",
    "    # base_true_positive.append(score)\n",
    "    \n",
    "\n",
    "# predict the baseline model on the test dataset\n",
    "accuracy = base_true_positive / base_total\n",
    "# print(len(base_true_positive))\n",
    "# accuracy = base_true_positive.mean()\n",
    "print(\"Accuracy of the model:\", accuracy)\n",
    "# print(\"Confusion Matrix:\\n\", confusion_matrix(y_test, y_pred))\n",
    "# print(\"Classification Report:\\n\", classification_report(y_test, y_pred))"
   ]
  },
  {
   "cell_type": "code",
   "execution_count": 321,
   "metadata": {},
   "outputs": [
    {
     "name": "stdout",
     "output_type": "stream",
     "text": [
      "[1, 1, 0, 0, 1, 0, 0, 0, 1, 1, 1, 0, 0, 0]\n",
      "[1 1 1 1 1 0 1 0 1 1 0 0 0 0]\n",
      "[0, 0, 0, 0, 0, 0, 0, 1, 0, 0, 0, 0, 0, 0, 0, 0, 0, 1, 0, 0, 0, 0]\n",
      "[0 0 0 0 0 1 0 0 0 0 0 0 0 0 0 1 0 0 0 0 0 1]\n",
      "[0, 1, 0, 1, 0, 0, 0, 1, 0, 0, 0, 0, 1, 1, 0, 0, 1, 0, 0]\n",
      "[0 1 0 1 0 0 0 1 0 1 0 0 0 1 0 0 1 1 0]\n",
      "[0, 1, 0, 1, 0, 1, 1, 0, 0, 0, 1, 0, 1, 1, 0, 1, 1, 1, 0, 1]\n",
      "[0 0 0 1 0 0 0 0 0 0 0 0 0 0 0 0 0 0 0 0]\n",
      "[0, 1, 0, 0, 1, 1, 1, 1, 0, 1, 1, 1, 1, 0, 1, 0, 0, 0]\n",
      "[0 1 0 0 1 1 1 1 0 1 0 0 1 0 1 0 0 0]\n",
      "[0, 1, 0, 0, 0, 1, 0, 1, 1]\n",
      "[0 1 0 0 0 0 0 0 1]\n",
      "[1, 0, 1, 0, 0, 0, 0, 1, 1, 1]\n",
      "[1 0 0 0 0 0 0 0 1 0]\n",
      "[0, 0, 0, 0, 0, 0, 0, 0, 0, 0, 0, 0, 0, 0, 0]\n",
      "[0 0 0 0 0 0 0 0 1 0 1 1 0 0 0]\n",
      "[0, 0, 0, 1, 1, 1, 0, 0, 0, 0, 0, 1, 0, 1, 1, 1, 1, 0]\n",
      "[0 0 0 1 0 1 0 0 0 0 1 1 0 1 0 0 0 0]\n",
      "[0, 0, 1, 0, 0, 0, 0, 0, 0, 0, 0, 0, 0, 0, 0, 0, 0, 0, 0]\n",
      "[0 1 0 1 0 0 0 1 0 0 1 0 1 0 0 0 0 0 0]\n",
      "[1, 0, 1, 0, 0, 0, 0, 0]\n",
      "[1 0 0 0 0 0 0 0]\n",
      "[0, 1, 1, 0, 0, 0, 0, 1, 1, 0, 1, 1, 1, 1, 0]\n",
      "[0 0 0 0 0 0 0 0 1 0 1 1 0 0 0]\n",
      "[1, 0, 0, 0, 0, 1, 1, 1]\n",
      "[0 0 0 0 0 0 1 0]\n",
      "[1, 1, 0, 0, 0, 0, 1, 0, 0, 0, 0, 0, 0, 0, 0, 0, 1, 0, 1, 1, 0]\n",
      "[0 0 0 0 1 0 0 0 0 0 0 0 0 0 0 0 0 0 0 0 0]\n",
      "[1, 1, 0, 1, 1, 1, 0, 1, 0, 0, 1, 0, 1, 1, 0, 1, 0, 1, 0, 0]\n",
      "[0 0 0 1 0 1 0 0 0 0 0 0 1 0 0 0 0 0 0 0]\n",
      "[0, 0, 0, 0, 0, 0, 0, 0, 0, 0, 0, 0, 0, 0, 0, 0]\n",
      "[0 0 0 0 0 0 1 0 0 0 0 0 0 1 0 0]\n",
      "[1, 1, 1, 1, 1, 1, 1, 1, 1, 1]\n",
      "[0 1 1 1 0 0 1 0 1 1]\n",
      "[0, 0, 0, 1, 1, 1, 0, 0, 1, 0, 0, 0, 0, 0]\n",
      "[0 0 0 0 0 1 0 0 1 1 0 0 0 0]\n",
      "[1, 1, 0, 0, 0, 0, 1, 0, 1, 0]\n",
      "[1 0 0 1 0 1 0 0 0 0]\n",
      "[1, 1, 1, 1, 1, 1, 1, 1, 1, 1, 1, 1, 1, 1, 1, 1, 1, 1]\n",
      "[0 0 0 0 1 1 1 1 0 1 1 0 1 0 1 1 0 0]\n",
      "[1, 0, 0, 0, 0, 1, 1, 0, 0, 0, 0, 1, 0, 1, 1, 1, 0, 0]\n",
      "[0 0 0 1 0 1 0 0 0 0 1 1 0 1 0 0 0 0]\n",
      "[0, 0, 0, 1, 0, 0, 0, 0, 0, 0, 0, 0, 1, 1, 0, 0, 0, 0, 0, 0]\n",
      "[0 0 0 1 0 1 0 0 0 0 0 0 1 0 0 0 0 0 0 0]\n",
      "[1, 0, 1, 0, 0, 0, 1, 0]\n",
      "[0 0 0 0 0 0 1 0]\n",
      "[0, 0, 0, 1, 1, 1, 0, 0, 1, 1, 0, 0, 0, 0]\n",
      "[0 0 0 1 0 0 0 1 1 0 0 0 0 0]\n",
      "[0, 1, 0, 1, 0, 1, 1, 1, 1, 0]\n",
      "[1 0 0 1 0 1 0 0 0 0]\n",
      "[1, 1, 1, 1, 1, 1, 1, 1, 1, 1]\n",
      "[0 1 1 1 0 0 1 0 1 1]\n",
      "[1, 1, 0, 0, 0, 0, 0, 0, 0, 0, 1, 1, 1, 1, 0]\n",
      "[0 0 0 0 0 0 0 0 1 0 1 1 0 0 0]\n",
      "Accuracy of the model: 0.04839580521281719\n"
     ]
    }
   ],
   "source": [
    "total = 0\n",
    "true_positive = 0\n",
    "for index, row in female_test.iterrows():\n",
    "    group_num = row['cluster']\n",
    "    male_id_match = match_df.loc[match_df['female_id'] == index]\n",
    "    # print(male_id_match.shape)\n",
    "    male_test = male_df.loc[male_id_match['male_id']]\n",
    "    male_test[additional_train] = male_id_match[additional_train].values\n",
    "\n",
    "    male_predictions = models_decision[group_num].predict(male_test)\n",
    "    # print(male_predictions.shape)\n",
    "    # print(len(male_id_match['match'].tolist()))\n",
    "    total += male_id_match.shape[0]\n",
    "    true_positive += accuracy_score(male_id_match['decision'].tolist(), male_predictions)\n",
    "    # print(male_id_match['match'].tolist())\n",
    "    # print(male_predictions)\n",
    "    \n",
    "    if not (male_predictions == 0).all().any():\n",
    "        print(male_id_match['decision'].tolist())\n",
    "        print(male_predictions)\n",
    "    \n",
    "# predict the model on the test dataset\n",
    "accuracy = true_positive / total\n",
    "print(\"Accuracy of the model:\", accuracy)\n",
    "# print(\"Confusion Matrix:\\n\", confusion_matrix(y_test, y_pred))\n",
    "# print(\"Classification Report:\\n\", classification_report(y_test, y_pred))"
   ]
  },
  {
   "cell_type": "markdown",
   "metadata": {},
   "source": [
    "### Record the results"
   ]
  },
  {
   "cell_type": "code",
   "execution_count": 322,
   "metadata": {},
   "outputs": [],
   "source": [
    "# record the results\n"
   ]
  }
 ],
 "metadata": {
  "kernelspec": {
   "display_name": "esl_env",
   "language": "python",
   "name": "python3"
  },
  "language_info": {
   "codemirror_mode": {
    "name": "ipython",
    "version": 3
   },
   "file_extension": ".py",
   "mimetype": "text/x-python",
   "name": "python",
   "nbconvert_exporter": "python",
   "pygments_lexer": "ipython3",
   "version": "3.10.15"
  }
 },
 "nbformat": 4,
 "nbformat_minor": 2
}
