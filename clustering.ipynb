{
 "cells": [
  {
   "cell_type": "code",
   "id": "initial_id",
   "metadata": {
    "collapsed": true,
    "ExecuteTime": {
     "end_time": "2025-01-20T16:27:54.420060Z",
     "start_time": "2025-01-20T16:27:54.405060Z"
    }
   },
   "source": [
    "import seaborn as sns\n",
    "import numpy as np\n",
    "import pandas as pd\n",
    "\n",
    "import pickle\n",
    "from sklearn.preprocessing import StandardScaler\n",
    "from sklearn.cluster import KMeans, AgglomerativeClustering, DBSCAN\n",
    "from sklearn.decomposition import PCA\n",
    "import matplotlib.pyplot as plt\n",
    "from sklearn.model_selection import ParameterGrid\n",
    "from scipy.spatial.distance import cdist\n",
    "from sklearn.metrics import silhouette_score\n",
    "from sklearn.decomposition import NMF\n"
   ],
   "outputs": [],
   "execution_count": 60
  },
  {
   "metadata": {
    "ExecuteTime": {
     "end_time": "2025-01-20T16:27:54.639025Z",
     "start_time": "2025-01-20T16:27:54.533036Z"
    }
   },
   "cell_type": "code",
   "source": [
    "with open('preprocessed_data/original_data.pkl', 'rb') as f:\n",
    "    data = pickle.load(f)\n",
    "    print(data)\n",
    "    print(len(data))\n",
    "    \n"
   ],
   "id": "c7fb323f4b4d61d8",
   "outputs": [
    {
     "name": "stdout",
     "output_type": "stream",
     "text": [
      "      has_null  wave  gender   age  age_o  d_age  d_d_age  race  race_o  \\\n",
      "0          0.0   1.0     0.0  21.0   27.0    6.0      2.0   0.0     3.0   \n",
      "1          0.0   1.0     0.0  21.0   22.0    1.0      0.0   0.0     3.0   \n",
      "2          1.0   1.0     0.0  21.0   22.0    1.0      0.0   0.0     0.0   \n",
      "3          0.0   1.0     0.0  21.0   23.0    2.0      1.0   0.0     3.0   \n",
      "4          0.0   1.0     0.0  21.0   24.0    3.0      1.0   0.0     2.0   \n",
      "...        ...   ...     ...   ...    ...    ...      ...   ...     ...   \n",
      "8373       1.0  21.0     1.0  25.0   26.0    1.0      0.0   3.0     2.0   \n",
      "8374       1.0  21.0     1.0  25.0   24.0    1.0      0.0   3.0     4.0   \n",
      "8375       1.0  21.0     1.0  25.0   29.0    4.0      2.0   3.0     2.0   \n",
      "8376       1.0  21.0     1.0  25.0   22.0    3.0      1.0   3.0     0.0   \n",
      "8377       1.0  21.0     1.0  25.0   22.0    3.0      1.0   3.0     0.0   \n",
      "\n",
      "      samerace  ...  field_14  field_15  field_16  field_17  race_0.0  \\\n",
      "0          0.0  ...       0.0       0.0       0.0       0.0       1.0   \n",
      "1          0.0  ...       0.0       0.0       0.0       0.0       1.0   \n",
      "2          1.0  ...       0.0       0.0       0.0       0.0       1.0   \n",
      "3          0.0  ...       0.0       0.0       0.0       0.0       1.0   \n",
      "4          0.0  ...       0.0       0.0       0.0       0.0       1.0   \n",
      "...        ...  ...       ...       ...       ...       ...       ...   \n",
      "8373       0.0  ...       0.0       0.0       0.0       1.0       0.0   \n",
      "8374       0.0  ...       0.0       0.0       0.0       1.0       0.0   \n",
      "8375       0.0  ...       0.0       0.0       0.0       1.0       0.0   \n",
      "8376       0.0  ...       0.0       0.0       0.0       1.0       0.0   \n",
      "8377       0.0  ...       0.0       0.0       0.0       1.0       0.0   \n",
      "\n",
      "      race_1.0  race_2.0  race_3.0  race_4.0  race_5.0  \n",
      "0          0.0       0.0       0.0       0.0       0.0  \n",
      "1          0.0       0.0       0.0       0.0       0.0  \n",
      "2          0.0       0.0       0.0       0.0       0.0  \n",
      "3          0.0       0.0       0.0       0.0       0.0  \n",
      "4          0.0       0.0       0.0       0.0       0.0  \n",
      "...        ...       ...       ...       ...       ...  \n",
      "8373       0.0       0.0       1.0       0.0       0.0  \n",
      "8374       0.0       0.0       1.0       0.0       0.0  \n",
      "8375       0.0       0.0       1.0       0.0       0.0  \n",
      "8376       0.0       0.0       1.0       0.0       0.0  \n",
      "8377       0.0       0.0       1.0       0.0       0.0  \n",
      "\n",
      "[8368 rows x 147 columns]\n",
      "8368\n"
     ]
    }
   ],
   "execution_count": 61
  },
  {
   "metadata": {},
   "cell_type": "markdown",
   "source": "#### Show correlation between self-reported scores and scores given by the opponent ",
   "id": "297632ffe9c8debe"
  },
  {
   "metadata": {
    "ExecuteTime": {
     "end_time": "2025-01-20T16:27:55.602580Z",
     "start_time": "2025-01-20T16:27:54.643027Z"
    }
   },
   "cell_type": "code",
   "source": [
    "self_rated_features = ['attractive', 'sincere', 'intelligence', 'funny', 'ambition']\n",
    "average_columns = [ 'attractive_o', 'sinsere_o', 'intelligence_o', 'funny_o', 'ambitous_o']\n",
    "group_by_columns = ['gender', 'age', 'race', 'field', 'attractive_important', 'sincere_important', 'intellicence_important', 'funny_important', 'ambtition_important', 'shared_interests_important', 'attractive', 'sincere', 'intelligence', 'funny', 'ambition', 'sports', 'tvsports', 'exercise', 'dining', 'museums', 'art', 'hiking', 'gaming', 'clubbing', 'reading', 'tv', 'theater', 'movies', 'concerts', 'music', 'shopping', 'yoga']\n",
    "\n",
    "def compare_ratings(data):\n",
    "    combined_df = (\n",
    "    data.groupby(group_by_columns, as_index=False)\n",
    "    [average_columns].mean()\n",
    "    )\n",
    "    reduced_df = combined_df[self_rated_features + average_columns]\n",
    "    \n",
    "    corr_attractive = reduced_df[['attractive', 'attractive_o']].corr()\n",
    "    corr_sincere = reduced_df[['sincere', 'sinsere_o']].corr()\n",
    "    corr_intelligence = reduced_df[['intelligence', 'intelligence_o']].corr()\n",
    "    corr_funny = reduced_df[['funny', 'funny_o']].corr()\n",
    "    corr_ambition = reduced_df[['ambition', 'ambitous_o']].corr()\n",
    "    \n",
    "    print(corr_attractive)\n",
    "    print(corr_sincere)\n",
    "    print(corr_funny)\n",
    "    print(corr_ambition)\n",
    "    print(corr_intelligence)\n",
    "    \n",
    "    sns.scatterplot(reduced_df, x=\"attractive_o\", y=\"attractive\")\n",
    "    sns.scatterplot(reduced_df, x=\"sinsere_o\", y=\"sincere\")\n",
    "    sns.scatterplot(reduced_df, x=\"intelligence_o\", y=\"intelligence\")\n",
    "    sns.scatterplot(reduced_df, x=\"funny_o\", y=\"funny\")\n",
    "    sns.scatterplot(reduced_df, x=\"ambitous_o\", y=\"ambition\")  \n",
    "   \n",
    "    \n",
    "\n",
    "women = data.loc[data['gender'] == 0]\n",
    "men = data.loc[data['gender'] == 1]\n",
    "\n",
    "compare_ratings(men)  \n",
    "\n",
    "\n",
    "    "
   ],
   "id": "dfd64d646c1ed3ed",
   "outputs": [
    {
     "name": "stdout",
     "output_type": "stream",
     "text": [
      "              attractive  attractive_o\n",
      "attractive      1.000000      0.351675\n",
      "attractive_o    0.351675      1.000000\n",
      "            sincere  sinsere_o\n",
      "sincere    1.000000  -0.060649\n",
      "sinsere_o -0.060649   1.000000\n",
      "            funny   funny_o\n",
      "funny    1.000000  0.022237\n",
      "funny_o  0.022237  1.000000\n",
      "            ambition  ambitous_o\n",
      "ambition    1.000000    0.272526\n",
      "ambitous_o  0.272526    1.000000\n",
      "                intelligence  intelligence_o\n",
      "intelligence        1.000000        0.014691\n",
      "intelligence_o      0.014691        1.000000\n"
     ]
    },
    {
     "data": {
      "text/plain": [
       "<Figure size 640x480 with 1 Axes>"
      ],
      "image/png": "[encoded data removed]"
     },
     "metadata": {},
     "output_type": "display_data"
    }
   ],
   "execution_count": 62
  },
  {
   "metadata": {
    "ExecuteTime": {
     "end_time": "2025-01-20T16:27:55.633061Z",
     "start_time": "2025-01-20T16:27:55.607428Z"
    }
   },
   "cell_type": "code",
   "source": [
    "def remove_relational_data(data):\n",
    "    data = data[['gender', 'age', 'race', 'field', 'attractive_o', 'sinsere_o', 'intelligence_o', 'funny_o', 'ambitous_o', 'shared_interests_o', 'attractive_important', 'sincere_important', 'intellicence_important', 'funny_important', 'ambtition_important', 'shared_interests_important', 'attractive', 'sincere', 'intelligence', 'funny', 'ambition', 'sports', 'tvsports', 'exercise', 'dining', 'museums', 'art', 'hiking', 'gaming', 'clubbing', 'reading', 'tv', 'theater', 'movies', 'concerts', 'music', 'shopping', 'yoga', 'shared_interests_o']]\n",
    "    return data\n",
    "\n",
    "data = remove_relational_data(data)    "
   ],
   "id": "9b21237c3d622193",
   "outputs": [],
   "execution_count": 63
  },
  {
   "metadata": {
    "ExecuteTime": {
     "end_time": "2025-01-20T16:27:55.710419Z",
     "start_time": "2025-01-20T16:27:55.638422Z"
    }
   },
   "cell_type": "code",
   "source": [
    "combined_df = (\n",
    "    data.groupby(group_by_columns, as_index=False)\n",
    "    [average_columns].mean()\n",
    ")"
   ],
   "id": "76a8f53e53450f42",
   "outputs": [],
   "execution_count": 64
  },
  {
   "metadata": {
    "ExecuteTime": {
     "end_time": "2025-01-20T16:27:55.726422Z",
     "start_time": "2025-01-20T16:27:55.715421Z"
    }
   },
   "cell_type": "code",
   "source": [
    "# Select women\n",
    "combined_df = combined_df.loc[combined_df['gender'] == 0]\n",
    "\n",
    "# Select men\n",
    "#combined_df = combined_df.loc[combined_df['gender'] == 1]"
   ],
   "id": "c1530eae7660677",
   "outputs": [],
   "execution_count": 65
  },
  {
   "metadata": {},
   "cell_type": "markdown",
   "source": "##### Normalize features",
   "id": "4ff8f60df71eb7c2"
  },
  {
   "metadata": {
    "ExecuteTime": {
     "end_time": "2025-01-20T16:27:55.757493Z",
     "start_time": "2025-01-20T16:27:55.729421Z"
    }
   },
   "cell_type": "code",
   "source": [
    "from sklearn.preprocessing import MinMaxScaler\n",
    "\n",
    "#Remove categorical values\n",
    "features = combined_df.drop(labels=['race', 'field'], axis=1)\n",
    "\n",
    "n_features = len(features.columns)\n",
    "std_scaler = StandardScaler()\n",
    "normalized_features = std_scaler.fit_transform(features)\n",
    "min_max_scaler = MinMaxScaler()\n",
    "normalized_features = min_max_scaler.fit_transform(normalized_features)\n",
    "print(normalized_features.shape)"
   ],
   "id": "aa2556b02b353008",
   "outputs": [
    {
     "name": "stdout",
     "output_type": "stream",
     "text": [
      "(271, 35)\n"
     ]
    }
   ],
   "execution_count": 66
  },
  {
   "metadata": {},
   "cell_type": "markdown",
   "source": "##### Apply PCA",
   "id": "557ccda69d67d8fd"
  },
  {
   "metadata": {
    "ExecuteTime": {
     "end_time": "2025-01-20T16:27:55.836507Z",
     "start_time": "2025-01-20T16:27:55.761426Z"
    }
   },
   "cell_type": "code",
   "source": [
    "pca_reduced_features = []\n",
    "for n in range(2,15):\n",
    "    pca = PCA(n_components=n)\n",
    "    reduced_features = pca.fit_transform(normalized_features)\n",
    "    pca_reduced_features.append(reduced_features)\n",
    "    print('Cumulative variance explained by {} principal components: {:.2%}'.format(n, np.sum(pca.explained_variance_ratio_)))\n"
   ],
   "id": "5a759765deebb5c3",
   "outputs": [
    {
     "name": "stdout",
     "output_type": "stream",
     "text": [
      "Cumulative variance explained by 2 principal components: 24.20%\n",
      "Cumulative variance explained by 3 principal components: 33.86%\n",
      "Cumulative variance explained by 4 principal components: 41.79%\n",
      "Cumulative variance explained by 5 principal components: 47.23%\n",
      "Cumulative variance explained by 6 principal components: 52.30%\n",
      "Cumulative variance explained by 7 principal components: 57.03%\n",
      "Cumulative variance explained by 8 principal components: 60.94%\n",
      "Cumulative variance explained by 9 principal components: 64.49%\n",
      "Cumulative variance explained by 10 principal components: 67.86%\n",
      "Cumulative variance explained by 11 principal components: 71.06%\n",
      "Cumulative variance explained by 12 principal components: 73.96%\n",
      "Cumulative variance explained by 13 principal components: 76.64%\n",
      "Cumulative variance explained by 14 principal components: 79.01%\n"
     ]
    }
   ],
   "execution_count": 67
  },
  {
   "metadata": {},
   "cell_type": "markdown",
   "source": "##### Apply NMF",
   "id": "21d813ba0e0d38af"
  },
  {
   "metadata": {
    "ExecuteTime": {
     "end_time": "2025-01-20T16:27:58.782360Z",
     "start_time": "2025-01-20T16:27:55.840493Z"
    }
   },
   "cell_type": "code",
   "source": [
    "nmf_reduced_features = []\n",
    "for n in range(2,15):\n",
    "    nmf_model = NMF(n_components=n, init='random', random_state=0, max_iter=5000)  # 3\n",
    "    nmf_features = nmf_model.fit_transform(normalized_features)\n",
    "    nmf_reduced_features.append(nmf_features)\n",
    "    H = nmf_model.components_\n",
    "    print('Frobenius norm as reconstruction error by {} components: {:.2%}'.format(n, nmf_model.reconstruction_err_))\n",
    "    \n"
   ],
   "id": "658f0c143ea64c6a",
   "outputs": [
    {
     "name": "stdout",
     "output_type": "stream",
     "text": [
      "Frobenius norm as reconstruction error by 2 components: 1790.33%\n",
      "Frobenius norm as reconstruction error by 3 components: 1680.23%\n",
      "Frobenius norm as reconstruction error by 4 components: 1575.22%\n",
      "Frobenius norm as reconstruction error by 5 components: 1504.33%\n",
      "Frobenius norm as reconstruction error by 6 components: 1431.25%\n",
      "Frobenius norm as reconstruction error by 7 components: 1361.45%\n",
      "Frobenius norm as reconstruction error by 8 components: 1296.29%\n",
      "Frobenius norm as reconstruction error by 9 components: 1234.99%\n",
      "Frobenius norm as reconstruction error by 10 components: 1174.10%\n",
      "Frobenius norm as reconstruction error by 11 components: 1113.29%\n",
      "Frobenius norm as reconstruction error by 12 components: 1059.01%\n",
      "Frobenius norm as reconstruction error by 13 components: 1008.58%\n",
      "Frobenius norm as reconstruction error by 14 components: 957.39%\n"
     ]
    }
   ],
   "execution_count": 68
  },
  {
   "metadata": {},
   "cell_type": "markdown",
   "source": "### K-means - Partitional Clustering Techniques",
   "id": "36cf44576486b66e"
  },
  {
   "metadata": {},
   "cell_type": "markdown",
   "source": "#### Generalized fitting and tuning function",
   "id": "698770d3ed4357f1"
  },
  {
   "metadata": {
    "ExecuteTime": {
     "end_time": "2025-01-20T16:27:58.828553Z",
     "start_time": "2025-01-20T16:27:58.786844Z"
    }
   },
   "cell_type": "code",
   "source": [
    "def tune_model(parameter_grid, model, data, show_silhouette, isKmeans):\n",
    "    if isKmeans:\n",
    "        distortions = []\n",
    "        inertias = []\n",
    "        \n",
    "        mapping1=  {}  \n",
    "        mapping2=  {}    \n",
    "\n",
    "    best_score = -1        \n",
    "    silhouette_scores = []\n",
    "    \n",
    "    # evaluation based on silhouette_score\n",
    "    for p in parameter_grid:\n",
    "        model.set_params(**p)    # Set current hyperparameters\n",
    "        model.fit(data) \n",
    "        \n",
    "        if len(set(model.labels_)) > 2:\n",
    "            ss = silhouette_score(data, model.labels_)   \n",
    "            silhouette_scores += [ss]     \n",
    "            if show_silhouette:\n",
    "                print('Parameter:', p, 'Score', ss)\n",
    "            \n",
    "            if isKmeans:\n",
    "                distortions.append(sum(np.min(cdist(data, model.cluster_centers_, 'euclidean'), axis=1)**2) / data.shape[0])      \n",
    "                inertias.append(model.inertia_)\n",
    "            \n",
    "                k = p['n_clusters']\n",
    "                # Store the mappings for easy access\n",
    "                mapping1[k] = distortions[-1]\n",
    "                mapping2[k] = inertias[-1]\n",
    "                # check p which has the best score\n",
    "            \n",
    "            if ss > best_score:\n",
    "                best_score = ss\n",
    "                best_grid = p\n",
    "        \n",
    "    if show_silhouette:      \n",
    "        # plotting silhouette score\n",
    "        plt.bar(range(len(silhouette_scores)), list(silhouette_scores), align='center', color='#722f59', width=0.5)\n",
    "        plt.xticks(range(len(silhouette_scores)), range(len(list(silhouette_scores))))\n",
    "        plt.title('Silhouette Score', fontweight='bold')\n",
    "        plt.xlabel('Number of Clusters')\n",
    "        plt.show()\n",
    "    \n",
    "    if isKmeans:\n",
    "        print(\"Distortion values:\")\n",
    "        for key, val in mapping1.items():\n",
    "            print(f'{key} : {val}')\n",
    "        # Plotting the graph of k versus Distortion\n",
    "        plt.plot(parameters, distortions, 'bx-')\n",
    "        plt.xlabel('Number of Clusters (k)')\n",
    "        plt.ylabel('Distortion')\n",
    "        plt.title('The Elbow Method using Distortion')\n",
    "        plt.grid()\n",
    "        plt.show()\n",
    "        \n",
    "        print(\"Inertia values:\")\n",
    "        for key, val in mapping2.items():\n",
    "            print(f'{key} : {val}')\n",
    "        # Plotting the graph of k versus Inertia\n",
    "        plt.plot(parameters, inertias, 'bx-')\n",
    "        plt.xlabel('Number of Clusters (k)')\n",
    "        plt.ylabel('Inertia')\n",
    "        plt.title('The Elbow Method using Inertia')\n",
    "        plt.grid()\n",
    "        plt.show()   "
   ],
   "id": "24f3652320c80a54",
   "outputs": [],
   "execution_count": 69
  },
  {
   "metadata": {
    "ExecuteTime": {
     "end_time": "2025-01-20T16:28:08.461649Z",
     "start_time": "2025-01-20T16:27:58.831505Z"
    }
   },
   "cell_type": "code",
   "source": [
    "### Only the KMeans model can set the last parameter (isKmeans) of tune_model to True, as only the Kmeans model has an inertia and distortion attribute\n",
    "    \n",
    "model = KMeans()\n",
    "parameters = range(2,15)\n",
    "parameter_grid = ParameterGrid({'n_clusters': parameters, 'n_init': ['auto']})\n",
    "\n",
    "tune_model(parameter_grid, model, combined_df, False, False)\n",
    "tune_model(parameter_grid, model, normalized_features, False, False)\n",
    "for rf in pca_reduced_features:\n",
    "    tune_model(parameter_grid, model, rf, False, False)\n",
    "for nmf in nmf_reduced_features:\n",
    "    tune_model(parameter_grid, model, nmf, False, False)"
   ],
   "id": "c76db35934fff25c",
   "outputs": [],
   "execution_count": 70
  },
  {
   "metadata": {},
   "cell_type": "markdown",
   "source": "",
   "id": "11d569577a3f4812"
  },
  {
   "metadata": {},
   "cell_type": "markdown",
   "source": "### Hierarchical Clustering",
   "id": "800fdb7b900b8859"
  },
  {
   "metadata": {
    "ExecuteTime": {
     "end_time": "2025-01-20T16:31:22.005908Z",
     "start_time": "2025-01-20T16:31:18.294705Z"
    }
   },
   "cell_type": "code",
   "source": [
    "parameters = range(2,15)\n",
    "parameter_grid = ParameterGrid({'n_clusters': parameters , 'linkage':['ward', 'complete', 'average']})\n",
    "agglom = AgglomerativeClustering() \n",
    "\n",
    "tune_model(parameter_grid, agglom, combined_df, True, False)\n",
    "tune_model(parameter_grid, agglom, normalized_features, True, False)\n"
   ],
   "id": "5691e1a1bd403cac",
   "outputs": [
    {
     "name": "stdout",
     "output_type": "stream",
     "text": [
      "Parameter: {'linkage': 'ward', 'n_clusters': 3} Score 0.3924406249462126\n",
      "Parameter: {'linkage': 'ward', 'n_clusters': 4} Score 0.36911943872776626\n",
      "Parameter: {'linkage': 'ward', 'n_clusters': 5} Score 0.2672998174295227\n",
      "Parameter: {'linkage': 'ward', 'n_clusters': 6} Score 0.24441488388196106\n",
      "Parameter: {'linkage': 'ward', 'n_clusters': 7} Score 0.2573526849641057\n",
      "Parameter: {'linkage': 'ward', 'n_clusters': 8} Score 0.22333675125394334\n",
      "Parameter: {'linkage': 'ward', 'n_clusters': 9} Score 0.20059545315802982\n",
      "Parameter: {'linkage': 'ward', 'n_clusters': 10} Score 0.20190070649882838\n",
      "Parameter: {'linkage': 'ward', 'n_clusters': 11} Score 0.17925557830040242\n",
      "Parameter: {'linkage': 'ward', 'n_clusters': 12} Score 0.1751127147166289\n",
      "Parameter: {'linkage': 'ward', 'n_clusters': 13} Score 0.17842932060905145\n",
      "Parameter: {'linkage': 'ward', 'n_clusters': 14} Score 0.179979384528607\n",
      "Parameter: {'linkage': 'complete', 'n_clusters': 3} Score 0.4426966459765919\n",
      "Parameter: {'linkage': 'complete', 'n_clusters': 4} Score 0.3070556219905035\n",
      "Parameter: {'linkage': 'complete', 'n_clusters': 5} Score 0.3609268517344982\n",
      "Parameter: {'linkage': 'complete', 'n_clusters': 6} Score 0.3510263769944647\n",
      "Parameter: {'linkage': 'complete', 'n_clusters': 7} Score 0.33165117053005916\n",
      "Parameter: {'linkage': 'complete', 'n_clusters': 8} Score 0.3080472415928556\n",
      "Parameter: {'linkage': 'complete', 'n_clusters': 9} Score 0.2976566228992222\n",
      "Parameter: {'linkage': 'complete', 'n_clusters': 10} Score 0.2615524383908979\n",
      "Parameter: {'linkage': 'complete', 'n_clusters': 11} Score 0.22392945541066142\n",
      "Parameter: {'linkage': 'complete', 'n_clusters': 12} Score 0.22612303655003518\n",
      "Parameter: {'linkage': 'complete', 'n_clusters': 13} Score 0.19543298798162953\n",
      "Parameter: {'linkage': 'complete', 'n_clusters': 14} Score 0.19641523262726487\n",
      "Parameter: {'linkage': 'average', 'n_clusters': 3} Score 0.500138977559353\n",
      "Parameter: {'linkage': 'average', 'n_clusters': 4} Score 0.3954469298828775\n",
      "Parameter: {'linkage': 'average', 'n_clusters': 5} Score 0.36915806035755455\n",
      "Parameter: {'linkage': 'average', 'n_clusters': 6} Score 0.3483465663485895\n",
      "Parameter: {'linkage': 'average', 'n_clusters': 7} Score 0.3106941937059162\n",
      "Parameter: {'linkage': 'average', 'n_clusters': 8} Score 0.3029760700767366\n",
      "Parameter: {'linkage': 'average', 'n_clusters': 9} Score 0.2909116958452954\n",
      "Parameter: {'linkage': 'average', 'n_clusters': 10} Score 0.27981283777204113\n",
      "Parameter: {'linkage': 'average', 'n_clusters': 11} Score 0.2794223890004725\n",
      "Parameter: {'linkage': 'average', 'n_clusters': 12} Score 0.25799891829339466\n",
      "Parameter: {'linkage': 'average', 'n_clusters': 13} Score 0.2467831469726697\n",
      "Parameter: {'linkage': 'average', 'n_clusters': 14} Score 0.2409580022310737\n"
     ]
    },
    {
     "data": {
      "text/plain": [
       "<Figure size 640x480 with 1 Axes>"
      ],
      "image/png": "[encoded data removed]"
     },
     "metadata": {},
     "output_type": "display_data"
    },
    {
     "name": "stdout",
     "output_type": "stream",
     "text": [
      "Parameter: {'linkage': 'ward', 'n_clusters': 3} Score 0.04762971603086855\n",
      "Parameter: {'linkage': 'ward', 'n_clusters': 4} Score 0.05135461675972104\n",
      "Parameter: {'linkage': 'ward', 'n_clusters': 5} Score 0.02889388439259699\n",
      "Parameter: {'linkage': 'ward', 'n_clusters': 6} Score 0.03051123153899928\n",
      "Parameter: {'linkage': 'ward', 'n_clusters': 7} Score 0.027605741786251504\n",
      "Parameter: {'linkage': 'ward', 'n_clusters': 8} Score 0.033860681105276874\n",
      "Parameter: {'linkage': 'ward', 'n_clusters': 9} Score 0.029998324726376403\n",
      "Parameter: {'linkage': 'ward', 'n_clusters': 10} Score 0.028761395650678957\n",
      "Parameter: {'linkage': 'ward', 'n_clusters': 11} Score 0.032598581416311966\n",
      "Parameter: {'linkage': 'ward', 'n_clusters': 12} Score 0.03603775766412421\n",
      "Parameter: {'linkage': 'ward', 'n_clusters': 13} Score 0.03806324336568639\n",
      "Parameter: {'linkage': 'ward', 'n_clusters': 14} Score 0.03728827760597086\n",
      "Parameter: {'linkage': 'complete', 'n_clusters': 3} Score 0.043688516997393075\n",
      "Parameter: {'linkage': 'complete', 'n_clusters': 4} Score 0.04680636228583118\n",
      "Parameter: {'linkage': 'complete', 'n_clusters': 5} Score 0.04561211122470539\n",
      "Parameter: {'linkage': 'complete', 'n_clusters': 6} Score 0.04028394355828158\n",
      "Parameter: {'linkage': 'complete', 'n_clusters': 7} Score 0.01825126866953864\n",
      "Parameter: {'linkage': 'complete', 'n_clusters': 8} Score 0.019368955287374628\n",
      "Parameter: {'linkage': 'complete', 'n_clusters': 9} Score 0.02156660237060301\n",
      "Parameter: {'linkage': 'complete', 'n_clusters': 10} Score 0.019723742077323126\n",
      "Parameter: {'linkage': 'complete', 'n_clusters': 11} Score 0.018907820737638557\n",
      "Parameter: {'linkage': 'complete', 'n_clusters': 12} Score 0.021497542293052847\n",
      "Parameter: {'linkage': 'complete', 'n_clusters': 13} Score 0.01913341660919842\n",
      "Parameter: {'linkage': 'complete', 'n_clusters': 14} Score 0.01812467055082902\n",
      "Parameter: {'linkage': 'average', 'n_clusters': 3} Score 0.2564355826104815\n",
      "Parameter: {'linkage': 'average', 'n_clusters': 4} Score 0.19554039588851238\n",
      "Parameter: {'linkage': 'average', 'n_clusters': 5} Score 0.1709802770934894\n",
      "Parameter: {'linkage': 'average', 'n_clusters': 6} Score 0.13783162676009764\n",
      "Parameter: {'linkage': 'average', 'n_clusters': 7} Score 0.1064909255677411\n",
      "Parameter: {'linkage': 'average', 'n_clusters': 8} Score 0.09636394165931494\n",
      "Parameter: {'linkage': 'average', 'n_clusters': 9} Score 0.07679068618137637\n",
      "Parameter: {'linkage': 'average', 'n_clusters': 10} Score 0.0743002627083363\n",
      "Parameter: {'linkage': 'average', 'n_clusters': 11} Score 0.05709541902268437\n",
      "Parameter: {'linkage': 'average', 'n_clusters': 12} Score 0.035202483314957136\n",
      "Parameter: {'linkage': 'average', 'n_clusters': 13} Score 0.029301790130950425\n",
      "Parameter: {'linkage': 'average', 'n_clusters': 14} Score 0.02299483964351319\n"
     ]
    },
    {
     "data": {
      "text/plain": [
       "<Figure size 640x480 with 1 Axes>"
      ],
      "image/png": "[encoded data removed]"
     },
     "metadata": {},
     "output_type": "display_data"
    }
   ],
   "execution_count": 74
  },
  {
   "metadata": {},
   "cell_type": "markdown",
   "source": "### DBSCAN",
   "id": "a27091c6c386574f"
  },
  {
   "metadata": {
    "ExecuteTime": {
     "end_time": "2025-01-20T16:28:09.436327Z",
     "start_time": "2025-01-20T16:28:08.843395Z"
    }
   },
   "cell_type": "code",
   "source": [
    "dbscan = DBSCAN()\n",
    "eps = [0.01, 0.2, 0.5, 0.9, 1, 10, 20, 100]\n",
    "min_samples = [2, 5, 10]\n",
    "\n",
    "parameter_grid = ParameterGrid({'eps':eps, 'min_samples':min_samples})\n",
    "\n",
    "tune_model(parameter_grid, dbscan, combined_df, False, False)\n",
    "tune_model(parameter_grid, dbscan, normalized_features, False, False)\n",
    "\n"
   ],
   "id": "7dc82506ba4b3eba",
   "outputs": [],
   "execution_count": 72
  },
  {
   "metadata": {
    "ExecuteTime": {
     "end_time": "2025-01-20T16:28:09.451901Z",
     "start_time": "2025-01-20T16:28:09.439964Z"
    }
   },
   "cell_type": "code",
   "source": "",
   "id": "1a29c1d46bc174a7",
   "outputs": [],
   "execution_count": 72
  }
 ],
 "metadata": {
  "kernelspec": {
   "display_name": "Python 3",
   "language": "python",
   "name": "python3"
  },
  "language_info": {
   "codemirror_mode": {
    "name": "ipython",
    "version": 2
   },
   "file_extension": ".py",
   "mimetype": "text/x-python",
   "name": "python",
   "nbconvert_exporter": "python",
   "pygments_lexer": "ipython2",
   "version": "2.7.6"
  }
 },
 "nbformat": 4,
 "nbformat_minor": 5
}
