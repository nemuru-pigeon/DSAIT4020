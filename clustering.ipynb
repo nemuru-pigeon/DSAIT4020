{
 "cells": [
  {
   "cell_type": "code",
   "id": "initial_id",
   "metadata": {
    "collapsed": true,
    "ExecuteTime": {
     "end_time": "2025-01-16T15:42:34.003263Z",
     "start_time": "2025-01-16T15:42:33.990259Z"
    }
   },
   "source": [
    "import seaborn as sns\n",
    "import numpy as np\n",
    "import pandas as pd\n",
    "\n",
    "import pickle\n",
    "from sklearn.preprocessing import StandardScaler\n",
    "from sklearn.cluster import KMeans, AgglomerativeClustering, FeatureAgglomeration\n",
    "from sklearn.decomposition import PCA\n",
    "import matplotlib.pyplot as plt\n",
    "from sklearn.model_selection import ParameterGrid\n",
    "from scipy.spatial.distance import cdist\n",
    "from sklearn.metrics import silhouette_score"
   ],
   "outputs": [],
   "execution_count": 33
  },
  {
   "metadata": {
    "ExecuteTime": {
     "end_time": "2025-01-16T15:42:34.129293Z",
     "start_time": "2025-01-16T15:42:34.084255Z"
    }
   },
   "cell_type": "code",
   "source": [
    "#TODO: Use another file than the preprocessed.pkl\n",
    "with open('preprocessed.pkl', 'rb') as f:\n",
    "    data = pickle.load(f)\n",
    "    print(data)\n",
    "    print(len(data))\n",
    "    \n"
   ],
   "id": "c7fb323f4b4d61d8",
   "outputs": [
    {
     "name": "stdout",
     "output_type": "stream",
     "text": [
      "      has_null  wave  gender   age  age_o  d_age  d_d_age  race  race_o  \\\n",
      "0            0   1.0       0  21.0   27.0    6.0        2     0       2   \n",
      "1            0   1.0       0  21.0   22.0    1.0        0     0       2   \n",
      "2            1   1.0       0  21.0   22.0    1.0        0     0       0   \n",
      "3            0   1.0       0  21.0   23.0    2.0        1     0       2   \n",
      "4            0   1.0       0  21.0   24.0    3.0        1     0       3   \n",
      "...        ...   ...     ...   ...    ...    ...      ...   ...     ...   \n",
      "8373         1  21.0       1  25.0   26.0    1.0        0     2       3   \n",
      "8374         1  21.0       1  25.0   24.0    1.0        0     2       4   \n",
      "8375         1  21.0       1  25.0   29.0    4.0        2     2       3   \n",
      "8376         1  21.0       1  25.0   22.0    3.0        1     2       0   \n",
      "8377         1  21.0       1  25.0   22.0    3.0        1     2       0   \n",
      "\n",
      "      samerace  ...  d_expected_num_interested_in_me  d_expected_num_matches  \\\n",
      "0            0  ...                                0                       1   \n",
      "1            0  ...                                0                       1   \n",
      "2            1  ...                                0                       1   \n",
      "3            0  ...                                0                       1   \n",
      "4            0  ...                                0                       1   \n",
      "...        ...  ...                              ...                     ...   \n",
      "8373         0  ...                                0                       1   \n",
      "8374         0  ...                                0                       1   \n",
      "8375         0  ...                                0                       1   \n",
      "8376         0  ...                                0                       1   \n",
      "8377         0  ...                                0                       1   \n",
      "\n",
      "      like  guess_prob_liked  d_like  d_guess_prob_liked  met  decision  \\\n",
      "0      7.0               6.0       1                   1  0.0         1   \n",
      "1      7.0               5.0       1                   1  1.0         1   \n",
      "2      7.0               5.0       1                   0  1.0         1   \n",
      "3      7.0               6.0       1                   1  0.0         1   \n",
      "4      6.0               6.0       1                   1  0.0         1   \n",
      "...    ...               ...     ...                 ...  ...       ...   \n",
      "8373   2.0               5.0       0                   1  0.0         0   \n",
      "8374   4.0               4.0       0                   0  0.0         0   \n",
      "8375   6.0               5.0       1                   1  0.0         0   \n",
      "8376   5.0               5.0       0                   1  0.0         0   \n",
      "8377   4.0               5.0       0                   1  0.0         0   \n",
      "\n",
      "      decision_o  match  \n",
      "0              0      0  \n",
      "1              0      0  \n",
      "2              1      1  \n",
      "3              1      1  \n",
      "4              1      1  \n",
      "...          ...    ...  \n",
      "8373           1      0  \n",
      "8374           0      0  \n",
      "8375           0      0  \n",
      "8376           1      0  \n",
      "8377           1      0  \n",
      "\n",
      "[8378 rows x 123 columns]\n",
      "8378\n"
     ]
    }
   ],
   "execution_count": 34
  },
  {
   "metadata": {},
   "cell_type": "markdown",
   "source": "#### Show correlation between self-reported scores and scores given by the opponent ",
   "id": "297632ffe9c8debe"
  },
  {
   "metadata": {
    "ExecuteTime": {
     "end_time": "2025-01-18T11:17:27.796628Z",
     "start_time": "2025-01-18T11:17:26.388106Z"
    }
   },
   "cell_type": "code",
   "source": [
    "self_rated_features = ['attractive', 'sincere', 'intelligence', 'funny', 'ambition']\n",
    "average_columns = [ 'attractive_o', 'sinsere_o', 'intelligence_o', 'funny_o', 'ambitous_o']\n",
    "group_by_columns = ['gender', 'age', 'race', 'field', 'attractive_important', 'sincere_important', 'intellicence_important', 'funny_important', 'ambtition_important', 'shared_interests_important', 'attractive', 'sincere', 'intelligence', 'funny', 'ambition', 'sports', 'tvsports', 'exercise', 'dining', 'museums', 'art', 'hiking', 'gaming', 'clubbing', 'reading', 'tv', 'theater', 'movies', 'concerts', 'music', 'shopping', 'yoga']\n",
    "\n",
    "def compare_ratings(data):\n",
    "    combined_df = (\n",
    "    data.groupby(group_by_columns, as_index=False)\n",
    "    [average_columns].mean()\n",
    "    )\n",
    "    reduced_df = combined_df[self_rated_features + average_columns]\n",
    "    \n",
    "    corr_attractive = reduced_df[['attractive', 'attractive_o']].corr()\n",
    "    corr_sincere = reduced_df[['sincere', 'sinsere_o']].corr()\n",
    "    corr_intelligence = reduced_df[['intelligence', 'intelligence_o']].corr()\n",
    "    corr_funny = reduced_df[['funny', 'funny_o']].corr()\n",
    "    corr_ambition = reduced_df[['ambition', 'ambitous_o']].corr()\n",
    "    \n",
    "    print(corr_attractive)\n",
    "    print(corr_sincere)\n",
    "    print(corr_funny)\n",
    "    print(corr_ambition)\n",
    "    print(corr_intelligence)\n",
    "    \n",
    "    sns.scatterplot(reduced_df, x=\"attractive_o\", y=\"attractive\")\n",
    "    sns.scatterplot(reduced_df, x=\"sinsere_o\", y=\"sincere\")\n",
    "    sns.scatterplot(reduced_df, x=\"intelligence_o\", y=\"intelligence\")\n",
    "    sns.scatterplot(reduced_df, x=\"funny_o\", y=\"funny\")\n",
    "    sns.scatterplot(reduced_df, x=\"ambitous_o\", y=\"ambition\")  \n",
    "   \n",
    "    \n",
    "compare_ratings(data)     \n",
    "    "
   ],
   "id": "dfd64d646c1ed3ed",
   "outputs": [
    {
     "ename": "NameError",
     "evalue": "name 'data' is not defined",
     "output_type": "error",
     "traceback": [
      "\u001B[1;31m---------------------------------------------------------------------------\u001B[0m",
      "\u001B[1;31mNameError\u001B[0m                                 Traceback (most recent call last)",
      "Cell \u001B[1;32mIn[1], line 31\u001B[0m\n\u001B[0;32m     27\u001B[0m     sns\u001B[38;5;241m.\u001B[39mscatterplot(reduced_df, x\u001B[38;5;241m=\u001B[39m\u001B[38;5;124m\"\u001B[39m\u001B[38;5;124mfunny_o\u001B[39m\u001B[38;5;124m\"\u001B[39m, y\u001B[38;5;241m=\u001B[39m\u001B[38;5;124m\"\u001B[39m\u001B[38;5;124mfunny\u001B[39m\u001B[38;5;124m\"\u001B[39m)\n\u001B[0;32m     28\u001B[0m     sns\u001B[38;5;241m.\u001B[39mscatterplot(reduced_df, x\u001B[38;5;241m=\u001B[39m\u001B[38;5;124m\"\u001B[39m\u001B[38;5;124mambitous_o\u001B[39m\u001B[38;5;124m\"\u001B[39m, y\u001B[38;5;241m=\u001B[39m\u001B[38;5;124m\"\u001B[39m\u001B[38;5;124mambition\u001B[39m\u001B[38;5;124m\"\u001B[39m)  \n\u001B[1;32m---> 31\u001B[0m compare_ratings(\u001B[43mdata\u001B[49m)     \n",
      "\u001B[1;31mNameError\u001B[0m: name 'data' is not defined"
     ]
    }
   ],
   "execution_count": 1
  },
  {
   "metadata": {
    "ExecuteTime": {
     "end_time": "2025-01-16T15:42:34.628320Z",
     "start_time": "2025-01-16T15:42:34.614254Z"
    }
   },
   "cell_type": "code",
   "source": [
    "def remove_relational_data(data):\n",
    "    data = data[['gender', 'age', 'race', 'field', 'attractive_o', 'sinsere_o', 'intelligence_o', 'funny_o', 'ambitous_o', 'shared_interests_o', 'attractive_important', 'sincere_important', 'intellicence_important', 'funny_important', 'ambtition_important', 'shared_interests_important', 'attractive', 'sincere', 'intelligence', 'funny', 'ambition', 'sports', 'tvsports', 'exercise', 'dining', 'museums', 'art', 'hiking', 'gaming', 'clubbing', 'reading', 'tv', 'theater', 'movies', 'concerts', 'music', 'shopping', 'yoga', 'shared_interests_o']]\n",
    "    return data\n",
    "\n",
    "data = remove_relational_data(data)    "
   ],
   "id": "9b21237c3d622193",
   "outputs": [],
   "execution_count": 36
  },
  {
   "metadata": {
    "ExecuteTime": {
     "end_time": "2025-01-16T15:42:34.785311Z",
     "start_time": "2025-01-16T15:42:34.631253Z"
    }
   },
   "cell_type": "code",
   "source": [
    "combined_df = (\n",
    "    data.groupby(group_by_columns, as_index=False)\n",
    "    [average_columns].mean()\n",
    ")"
   ],
   "id": "76a8f53e53450f42",
   "outputs": [],
   "execution_count": 37
  },
  {
   "metadata": {
    "ExecuteTime": {
     "end_time": "2025-01-16T15:42:34.801330Z",
     "start_time": "2025-01-16T15:42:34.787273Z"
    }
   },
   "cell_type": "code",
   "source": [
    "# Select women\n",
    "combined_df = combined_df.loc[combined_df['gender'] == 0]\n",
    "\n",
    "# Select men\n",
    "#combined_df = combined_df.loc[combined_df['gender'] == 1]"
   ],
   "id": "c1530eae7660677",
   "outputs": [],
   "execution_count": 38
  },
  {
   "metadata": {
    "ExecuteTime": {
     "end_time": "2025-01-16T15:42:34.817296Z",
     "start_time": "2025-01-16T15:42:34.803278Z"
    }
   },
   "cell_type": "code",
   "source": [
    "#Remove categorical values\n",
    "features = combined_df.drop(labels=['race', 'field'], axis=1)\n",
    "\n",
    "# Normalize the data\n",
    "scaler = StandardScaler()\n",
    "normalized_features = scaler.fit_transform(features)"
   ],
   "id": "aa2556b02b353008",
   "outputs": [
    {
     "name": "stdout",
     "output_type": "stream",
     "text": [
      "35\n"
     ]
    }
   ],
   "execution_count": 39
  },
  {
   "metadata": {},
   "cell_type": "markdown",
   "source": "### Feature Agglomeration",
   "id": "e2aaddac19dbe561"
  },
  {
   "metadata": {},
   "cell_type": "code",
   "outputs": [],
   "execution_count": null,
   "source": [
    "fa = FeatureAgglomeration()\n",
    "nf = normalized_features\n",
    "\n",
    "nf = fa.fit_transform(nf)\n"
   ],
   "id": "5e89589b1fa54177"
  },
  {
   "metadata": {},
   "cell_type": "markdown",
   "source": "### K-means - Partitional Clustering Techniques",
   "id": "36cf44576486b66e"
  },
  {
   "metadata": {},
   "cell_type": "markdown",
   "source": "#### Initialize Kmeans with 1 k",
   "id": "a1373291692bf0d5"
  },
  {
   "metadata": {
    "ExecuteTime": {
     "end_time": "2025-01-16T15:42:34.848269Z",
     "start_time": "2025-01-16T15:42:34.819283Z"
    }
   },
   "cell_type": "code",
   "source": [
    "# Set the number of clusters\n",
    "k = 3  \n",
    "\n",
    "# Initialize and fit KMeans\n",
    "kmeans = KMeans(n_clusters=k, random_state=42, n_init='auto')\n",
    "kmeans.fit(normalized_features)\n",
    "\n",
    "# Get cluster labels\n",
    "combined_df['cluster'] = kmeans.labels_"
   ],
   "id": "6bb89993916011f0",
   "outputs": [],
   "execution_count": 40
  },
  {
   "metadata": {
    "ExecuteTime": {
     "end_time": "2025-01-16T15:42:34.879303Z",
     "start_time": "2025-01-16T15:42:34.850270Z"
    }
   },
   "cell_type": "code",
   "source": [
    "print(combined_df.head())\n",
    "\n",
    "# Group data by clusters to understand the characteristics of each cluster\n",
    "cluster_summary = combined_df.groupby('cluster').mean()\n",
    "print(cluster_summary)"
   ],
   "id": "a99a5d01b7e9e9ba",
   "outputs": [
    {
     "name": "stdout",
     "output_type": "stream",
     "text": [
      "   gender   age  race  field  attractive_important  sincere_important  \\\n",
      "0       0  19.0     3    175                  50.0               15.0   \n",
      "1       0  20.0     1     61                  20.0               20.0   \n",
      "2       0  20.0     3     76                  10.0               10.0   \n",
      "3       0  20.0     4    193                  15.0               15.0   \n",
      "4       0  21.0     0      6                  30.0                5.0   \n",
      "\n",
      "   intellicence_important  funny_important  ambtition_important  \\\n",
      "0                    10.0             10.0                 10.0   \n",
      "1                    20.0             20.0                 10.0   \n",
      "2                    35.0             35.0                  8.0   \n",
      "3                    20.0             25.0                 10.0   \n",
      "4                    30.0             15.0                 15.0   \n",
      "\n",
      "   shared_interests_important  ...  concerts  music  shopping  yoga  \\\n",
      "0                         5.0  ...      10.0   10.0       7.0   8.0   \n",
      "1                        10.0  ...       6.0    9.0       2.0   2.0   \n",
      "2                         2.0  ...       6.0    8.0       3.0   5.0   \n",
      "3                        15.0  ...       9.0   10.0       4.0   6.0   \n",
      "4                         5.0  ...       7.0    7.0       7.0   7.0   \n",
      "\n",
      "   attractive_o  sinsere_o  intelligence_o  funny_o  ambitous_o  cluster  \n",
      "0        7.9000     7.6000          7.0000    6.800        6.70        0  \n",
      "1        5.0000     6.8000          7.1000    5.500        6.20        2  \n",
      "2        7.8000     6.6000          7.5000    7.300        6.90        1  \n",
      "3        7.9000     7.3000          7.5000    7.000        6.20        0  \n",
      "4        7.1875     7.3125          7.3125    6.875        7.25        1  \n",
      "\n",
      "[5 rows x 38 columns]\n",
      "         gender        age      race       field  attractive_important  \\\n",
      "cluster                                                                  \n",
      "0           0.0  25.450549  1.747253  132.505495             19.363187   \n",
      "1           0.0  25.166667  1.744444  143.566667             20.242000   \n",
      "2           0.0  27.766667  1.422222  135.344444             14.485000   \n",
      "\n",
      "         sincere_important  intellicence_important  funny_important  \\\n",
      "cluster                                                               \n",
      "0                17.935714               20.556923        17.534505   \n",
      "1                16.074889               21.444333        17.917778   \n",
      "2                20.658333               20.894778        16.458000   \n",
      "\n",
      "         ambtition_important  shared_interests_important  ...    movies  \\\n",
      "cluster                                                   ...             \n",
      "0                  13.798352                   10.811758  ...  8.813187   \n",
      "1                  12.771667                   11.708556  ...  7.288889   \n",
      "2                  11.811889                   15.525556  ...  8.333333   \n",
      "\n",
      "         concerts     music  shopping      yoga  attractive_o  sinsere_o  \\\n",
      "cluster                                                                    \n",
      "0        8.307692  9.021978  7.395604  6.120879      6.690126   7.199429   \n",
      "1        6.155556  7.166667  6.300000  4.488889      7.039214   7.449674   \n",
      "2        6.977778  7.933333  5.744444  4.588889      5.684687   7.182746   \n",
      "\n",
      "         intelligence_o   funny_o  ambitous_o  \n",
      "cluster                                        \n",
      "0              7.175031  6.596687    6.577042  \n",
      "1              7.631924  7.079341    7.130878  \n",
      "2              7.110812  6.039353    6.294705  \n",
      "\n",
      "[3 rows x 37 columns]\n"
     ]
    }
   ],
   "execution_count": 41
  },
  {
   "metadata": {},
   "cell_type": "markdown",
   "source": "#### Use PCA to visualize the results",
   "id": "2ecaef48c941492e"
  },
  {
   "metadata": {
    "ExecuteTime": {
     "end_time": "2025-01-18T11:23:04.258214Z",
     "start_time": "2025-01-18T11:23:04.105539Z"
    }
   },
   "cell_type": "code",
   "source": [
    "# Reduce to 2 dimensions for visualization\n",
    "n_components = 2\n",
    "pca = PCA(n_components=n_components)\n",
    "reduced_features = pca.fit_transform(normalized_features)\n",
    "print('Cumulative variance explained by {} principal components: {:.2%}'.format(n_components, np.sum(pca.explained_variance_ratio_)))\n",
    "\n",
    "\n",
    "# Plot the clusters\n",
    "plt.scatter(reduced_features[:, 0], reduced_features[:, 1], c=kmeans.labels_, cmap='viridis')\n",
    "plt.title(\"K-Means Clustering\")\n",
    "plt.xlabel(\"PCA Component 1\")\n",
    "plt.ylabel(\"PCA Component 2\")\n",
    "plt.show()"
   ],
   "id": "b75ed3b101073b09",
   "outputs": [
    {
     "ename": "NameError",
     "evalue": "name 'PCA' is not defined",
     "output_type": "error",
     "traceback": [
      "\u001B[1;31m---------------------------------------------------------------------------\u001B[0m",
      "\u001B[1;31mNameError\u001B[0m                                 Traceback (most recent call last)",
      "Cell \u001B[1;32mIn[2], line 3\u001B[0m\n\u001B[0;32m      1\u001B[0m \u001B[38;5;66;03m# Reduce to 2 dimensions for visualization\u001B[39;00m\n\u001B[0;32m      2\u001B[0m n_components \u001B[38;5;241m=\u001B[39m \u001B[38;5;241m2\u001B[39m\n\u001B[1;32m----> 3\u001B[0m pca \u001B[38;5;241m=\u001B[39m \u001B[43mPCA\u001B[49m(n_components\u001B[38;5;241m=\u001B[39mn_components)\n\u001B[0;32m      4\u001B[0m reduced_features \u001B[38;5;241m=\u001B[39m pca\u001B[38;5;241m.\u001B[39mfit_transform(normalized_features)\n\u001B[0;32m      5\u001B[0m \u001B[38;5;28mprint\u001B[39m(\u001B[38;5;124m'\u001B[39m\u001B[38;5;124mCumulative variance explained by \u001B[39m\u001B[38;5;132;01m{}\u001B[39;00m\u001B[38;5;124m principal components: \u001B[39m\u001B[38;5;132;01m{:.2%}\u001B[39;00m\u001B[38;5;124m'\u001B[39m\u001B[38;5;241m.\u001B[39mformat(n_components, np\u001B[38;5;241m.\u001B[39msum(pca\u001B[38;5;241m.\u001B[39mexplained_variance_ratio_)))\n",
      "\u001B[1;31mNameError\u001B[0m: name 'PCA' is not defined"
     ]
    }
   ],
   "execution_count": 2
  },
  {
   "metadata": {
    "ExecuteTime": {
     "end_time": "2025-01-16T15:42:35.133250Z",
     "start_time": "2025-01-16T15:42:35.118183Z"
    }
   },
   "cell_type": "code",
   "source": [
    "# Results from pca.components_\n",
    "dataset_pca = pd.DataFrame(abs(pca.components_), columns=features.columns, index=['PC_1', 'PC_2'])\n",
    "    #, 'PC_3', 'PC_4', 'PC_5', 'PC_6'])\n",
    "print('\\n\\n', dataset_pca)\n",
    "    "
   ],
   "id": "99c6fdbe9ead5564",
   "outputs": [
    {
     "name": "stdout",
     "output_type": "stream",
     "text": [
      "\n",
      "\n",
      "             gender       age  attractive_important  sincere_important  \\\n",
      "PC_1  6.575218e-18  0.020940              0.074340           0.056538   \n",
      "PC_2  7.897444e-18  0.140354              0.113763           0.133769   \n",
      "PC_3  7.763980e-18  0.251921              0.213196           0.201115   \n",
      "PC_4  2.919198e-18  0.052440              0.181268           0.288575   \n",
      "PC_5  6.888121e-18  0.234648              0.224879           0.124710   \n",
      "PC_6  7.872381e-18  0.025962              0.411999           0.124241   \n",
      "\n",
      "      intellicence_important  funny_important  ambtition_important  \\\n",
      "PC_1                0.008785         0.013990             0.070582   \n",
      "PC_2                0.027192         0.092816             0.076010   \n",
      "PC_3                0.081421         0.004902             0.147931   \n",
      "PC_4                0.229656         0.007036             0.032899   \n",
      "PC_5                0.095971         0.153787             0.100580   \n",
      "PC_6                0.054048         0.050105             0.503347   \n",
      "\n",
      "      shared_interests_important  attractive   sincere  ...    movies  \\\n",
      "PC_1                    0.004172    0.030944  0.176845  ...  0.300686   \n",
      "PC_2                    0.219245    0.125870  0.073030  ...  0.023172   \n",
      "PC_3                    0.161656    0.174078  0.013880  ...  0.001156   \n",
      "PC_4                    0.210513    0.036078  0.248035  ...  0.058780   \n",
      "PC_5                    0.106290    0.403582  0.246753  ...  0.197758   \n",
      "PC_6                    0.184920    0.100707  0.194396  ...  0.050196   \n",
      "\n",
      "      concerts     music  shopping      yoga  attractive_o  sinsere_o  \\\n",
      "PC_1  0.331454  0.293219  0.156095  0.200689      0.050415   0.042427   \n",
      "PC_2  0.036856  0.006076  0.155304  0.102403      0.438411   0.234870   \n",
      "PC_3  0.071052  0.018802  0.261927  0.074952      0.078547   0.330194   \n",
      "PC_4  0.128775  0.108491  0.161057  0.052310      0.072199   0.108701   \n",
      "PC_5  0.120787  0.142028  0.221447  0.083019      0.030685   0.082585   \n",
      "PC_6  0.155889  0.044831  0.077919  0.035434      0.070652   0.186040   \n",
      "\n",
      "      intelligence_o   funny_o  ambitous_o  \n",
      "PC_1        0.116753  0.098319    0.123687  \n",
      "PC_2        0.301465  0.442665    0.408245  \n",
      "PC_3        0.327517  0.114099    0.137253  \n",
      "PC_4        0.065366  0.011516    0.010551  \n",
      "PC_5        0.033614  0.009359    0.040799  \n",
      "PC_6        0.170273  0.029421    0.076126  \n",
      "\n",
      "[6 rows x 35 columns]\n"
     ]
    }
   ],
   "execution_count": 43
  },
  {
   "metadata": {},
   "cell_type": "markdown",
   "source": "#### Initialize Kmeans over a set of parameters",
   "id": "698770d3ed4357f1"
  },
  {
   "metadata": {
    "ExecuteTime": {
     "end_time": "2025-01-16T15:42:35.586185Z",
     "start_time": "2025-01-16T15:42:35.134185Z"
    }
   },
   "cell_type": "code",
   "source": [
    "distortions = []\n",
    "inertias = []\n",
    "\n",
    "mapping1= {}\n",
    "mapping2= {}\n",
    "\n",
    "parameters = range(2,15)\n",
    "\n",
    "# instantiating ParameterGrid, pass number of clusters as input\n",
    "parameter_grid = ParameterGrid({'n_clusters': parameters, 'n_init': ['auto']})\n",
    "best_score = -1\n",
    "\n",
    "kmeans_model = KMeans()     # instantiating KMeans model\n",
    "silhouette_scores = []\n",
    "# evaluation based on silhouette_score\n",
    "for p in parameter_grid:\n",
    "    kmeans_model.set_params(**p)    # set current hyper parameter\n",
    "    kmeans_model.fit(combined_df)          \n",
    "    ss = silhouette_score(combined_df, kmeans_model.labels_)   # calculate silhouette_score\n",
    "    silhouette_scores += [ss]       # store all the scores\n",
    "    print('Parameter:', p, 'Score', ss)\n",
    "    distortions.append(sum(np.min(cdist(combined_df, kmeans_model.cluster_centers_, 'euclidean'), axis=1)**2) / combined_df.shape[0])\n",
    "    \n",
    "    # Inertia is calculated directly by KMeans\n",
    "    inertias.append(kmeans_model.inertia_)\n",
    "    \n",
    "    # Store the mappings for easy access\n",
    "    mapping1[k] = distortions[-1]\n",
    "    mapping2[k] = inertias[-1]\n",
    "    # check p which has the best score\n",
    "    \n",
    "    if ss > best_score:\n",
    "        best_score = ss\n",
    "        best_grid = p\n",
    "        \n",
    "# plotting silhouette score\n",
    "plt.bar(range(len(silhouette_scores)), list(silhouette_scores), align='center', color='#722f59', width=0.5)\n",
    "plt.xticks(range(len(silhouette_scores)), list(parameters))\n",
    "plt.title('Silhouette Score', fontweight='bold')\n",
    "plt.xlabel('Number of Clusters')\n",
    "plt.show()"
   ],
   "id": "24f3652320c80a54",
   "outputs": [
    {
     "name": "stdout",
     "output_type": "stream",
     "text": [
      "Parameter: {'n_clusters': 2, 'n_init': 'auto'} Score 0.5550136359379801\n",
      "Parameter: {'n_clusters': 3, 'n_init': 'auto'} Score 0.4589350788370592\n",
      "Parameter: {'n_clusters': 4, 'n_init': 'auto'} Score 0.425500485777446\n",
      "Parameter: {'n_clusters': 5, 'n_init': 'auto'} Score 0.3917563265599712\n",
      "Parameter: {'n_clusters': 6, 'n_init': 'auto'} Score 0.3203118918800236\n",
      "Parameter: {'n_clusters': 7, 'n_init': 'auto'} Score 0.3397536267814396\n",
      "Parameter: {'n_clusters': 8, 'n_init': 'auto'} Score 0.22153379217473695\n",
      "Parameter: {'n_clusters': 9, 'n_init': 'auto'} Score 0.1916189894039377\n",
      "Parameter: {'n_clusters': 10, 'n_init': 'auto'} Score 0.18831779269257393\n",
      "Parameter: {'n_clusters': 11, 'n_init': 'auto'} Score 0.2134615812938303\n",
      "Parameter: {'n_clusters': 12, 'n_init': 'auto'} Score 0.1865381466209976\n",
      "Parameter: {'n_clusters': 13, 'n_init': 'auto'} Score 0.1670917695813396\n",
      "Parameter: {'n_clusters': 14, 'n_init': 'auto'} Score 0.16491011076352483\n"
     ]
    },
    {
     "data": {
      "text/plain": [
       "<Figure size 640x480 with 1 Axes>"
      ],
      "image/png": "[encoded data removed]"
     },
     "metadata": {},
     "output_type": "display_data"
    }
   ],
   "execution_count": 44
  },
  {
   "metadata": {
    "ExecuteTime": {
     "end_time": "2025-01-16T15:42:35.856224Z",
     "start_time": "2025-01-16T15:42:35.589186Z"
    }
   },
   "cell_type": "code",
   "source": [
    "print(\"Distortion values:\")\n",
    "for key, val in mapping1.items():\n",
    "    print(f'{key} : {val}')\n",
    "# Plotting the graph of k versus Distortion\n",
    "plt.plot(parameters, distortions, 'bx-')\n",
    "plt.xlabel('Number of Clusters (k)')\n",
    "plt.ylabel('Distortion')\n",
    "plt.title('The Elbow Method using Distortion')\n",
    "plt.grid()\n",
    "plt.show()"
   ],
   "id": "c76db35934fff25c",
   "outputs": [
    {
     "name": "stdout",
     "output_type": "stream",
     "text": [
      "Distortion values:\n",
      "3 : 374.7728330416691\n"
     ]
    },
    {
     "data": {
      "text/plain": [
       "<Figure size 640x480 with 1 Axes>"
      ],
      "image/png": "[encoded data removed]"
     },
     "metadata": {},
     "output_type": "display_data"
    }
   ],
   "execution_count": 45
  },
  {
   "metadata": {
    "ExecuteTime": {
     "end_time": "2025-01-16T15:42:36.170185Z",
     "start_time": "2025-01-16T15:42:35.859190Z"
    }
   },
   "cell_type": "code",
   "source": [
    "print(\"Inertia values:\")\n",
    "for key, val in mapping2.items():\n",
    "    print(f'{key} : {val}')\n",
    "# Plotting the graph of k versus Inertia\n",
    "plt.plot(parameters, inertias, 'bx-')\n",
    "plt.xlabel('Number of Clusters (k)')\n",
    "plt.ylabel('Inertia')\n",
    "plt.title('The Elbow Method using Inertia')\n",
    "plt.grid()\n",
    "plt.show()"
   ],
   "id": "cc310b4357329d15",
   "outputs": [
    {
     "name": "stdout",
     "output_type": "stream",
     "text": [
      "Inertia values:\n",
      "3 : 101563.43775429233\n"
     ]
    },
    {
     "data": {
      "text/plain": [
       "<Figure size 640x480 with 1 Axes>"
      ],
      "image/png": "[encoded data removed]"
     },
     "metadata": {},
     "output_type": "display_data"
    }
   ],
   "execution_count": 46
  },
  {
   "metadata": {},
   "cell_type": "markdown",
   "source": "",
   "id": "11d569577a3f4812"
  },
  {
   "metadata": {},
   "cell_type": "markdown",
   "source": "### Hierarchical Clustering",
   "id": "800fdb7b900b8859"
  },
  {
   "metadata": {
    "ExecuteTime": {
     "end_time": "2025-01-16T15:47:59.554634Z",
     "start_time": "2025-01-16T15:47:58.921653Z"
    }
   },
   "cell_type": "code",
   "source": [
    "# candidate values for our number of cluster\n",
    "parameters = [2, 3, 4, 5, 10]\n",
    "\n",
    "#parameters = range(2,15)\n",
    "# instantiating ParameterGrid, pass number of clusters as input\n",
    "parameter_grid = ParameterGrid({'n_clusters': parameters, 'metric': ['euclidean'], 'linkage':['ward', 'complete', 'average']})\n",
    "best_score = -1\n",
    "agglom = AgglomerativeClustering()    \n",
    "silhouette_scores = []\n",
    "# evaluation based on silhouette_score\n",
    "for p in parameter_grid:\n",
    "    agglom.set_params(**p)    # set current hyper parameter\n",
    "    agglom.fit(combined_df)          \n",
    "    ss = silhouette_score(combined_df, agglom.labels_)   # calculate silhouette_score\n",
    "    silhouette_scores += [ss]       # store all the scores\n",
    "    print('Parameter:', p, 'Score', ss)\n",
    "    \n",
    "\n",
    "    # check p which has the best score\n",
    "    \n",
    "    if ss > best_score:\n",
    "        best_score = ss\n",
    "        best_grid = p\n",
    "        \n",
    "# plotting silhouette score\n",
    "plt.bar(range(len(silhouette_scores)), list(silhouette_scores), align='center', color='#722f59', width=0.5)\n",
    "plt.xticks(range(len(silhouette_scores)), list(parameters))\n",
    "plt.title('Silhouette Score', fontweight='bold')\n",
    "plt.xlabel('Number of Clusters')\n",
    "plt.show()"
   ],
   "id": "5691e1a1bd403cac",
   "outputs": [
    {
     "name": "stdout",
     "output_type": "stream",
     "text": [
      "Parameter: {'linkage': 'ward', 'metric': 'euclidean', 'n_clusters': 2} Score 0.5216099468362613\n",
      "Parameter: {'linkage': 'ward', 'metric': 'euclidean', 'n_clusters': 3} Score 0.4478849009629258\n",
      "Parameter: {'linkage': 'ward', 'metric': 'euclidean', 'n_clusters': 4} Score 0.34942991601450346\n",
      "Parameter: {'linkage': 'ward', 'metric': 'euclidean', 'n_clusters': 5} Score 0.3224162519078716\n",
      "Parameter: {'linkage': 'ward', 'metric': 'euclidean', 'n_clusters': 10} Score 0.20794855076997923\n",
      "Parameter: {'linkage': 'complete', 'metric': 'euclidean', 'n_clusters': 2} Score 0.5498113303587413\n",
      "Parameter: {'linkage': 'complete', 'metric': 'euclidean', 'n_clusters': 3} Score 0.4520088841987982\n",
      "Parameter: {'linkage': 'complete', 'metric': 'euclidean', 'n_clusters': 4} Score 0.4130149105467183\n",
      "Parameter: {'linkage': 'complete', 'metric': 'euclidean', 'n_clusters': 5} Score 0.3713576618935388\n",
      "Parameter: {'linkage': 'complete', 'metric': 'euclidean', 'n_clusters': 10} Score 0.26504559444837594\n",
      "Parameter: {'linkage': 'average', 'metric': 'euclidean', 'n_clusters': 2} Score 0.5488353649955573\n",
      "Parameter: {'linkage': 'average', 'metric': 'euclidean', 'n_clusters': 3} Score 0.45594714476010845\n",
      "Parameter: {'linkage': 'average', 'metric': 'euclidean', 'n_clusters': 4} Score 0.4089675898176016\n",
      "Parameter: {'linkage': 'average', 'metric': 'euclidean', 'n_clusters': 5} Score 0.40565413083540375\n",
      "Parameter: {'linkage': 'average', 'metric': 'euclidean', 'n_clusters': 10} Score 0.35482327173484157\n"
     ]
    },
    {
     "ename": "ValueError",
     "evalue": "The number of FixedLocator locations (15), usually from a call to set_ticks, does not match the number of labels (5).",
     "output_type": "error",
     "traceback": [
      "\u001B[1;31m---------------------------------------------------------------------------\u001B[0m",
      "\u001B[1;31mValueError\u001B[0m                                Traceback (most recent call last)",
      "Cell \u001B[1;32mIn[51], line 26\u001B[0m\n\u001B[0;32m     24\u001B[0m \u001B[38;5;66;03m# plotting silhouette score\u001B[39;00m\n\u001B[0;32m     25\u001B[0m plt\u001B[38;5;241m.\u001B[39mbar(\u001B[38;5;28mrange\u001B[39m(\u001B[38;5;28mlen\u001B[39m(silhouette_scores)), \u001B[38;5;28mlist\u001B[39m(silhouette_scores), align\u001B[38;5;241m=\u001B[39m\u001B[38;5;124m'\u001B[39m\u001B[38;5;124mcenter\u001B[39m\u001B[38;5;124m'\u001B[39m, color\u001B[38;5;241m=\u001B[39m\u001B[38;5;124m'\u001B[39m\u001B[38;5;124m#722f59\u001B[39m\u001B[38;5;124m'\u001B[39m, width\u001B[38;5;241m=\u001B[39m\u001B[38;5;241m0.5\u001B[39m)\n\u001B[1;32m---> 26\u001B[0m \u001B[43mplt\u001B[49m\u001B[38;5;241;43m.\u001B[39;49m\u001B[43mxticks\u001B[49m\u001B[43m(\u001B[49m\u001B[38;5;28;43mrange\u001B[39;49m\u001B[43m(\u001B[49m\u001B[38;5;28;43mlen\u001B[39;49m\u001B[43m(\u001B[49m\u001B[43msilhouette_scores\u001B[49m\u001B[43m)\u001B[49m\u001B[43m)\u001B[49m\u001B[43m,\u001B[49m\u001B[43m \u001B[49m\u001B[38;5;28;43mlist\u001B[39;49m\u001B[43m(\u001B[49m\u001B[43mparameters\u001B[49m\u001B[43m)\u001B[49m\u001B[43m)\u001B[49m\n\u001B[0;32m     27\u001B[0m plt\u001B[38;5;241m.\u001B[39mtitle(\u001B[38;5;124m'\u001B[39m\u001B[38;5;124mSilhouette Score\u001B[39m\u001B[38;5;124m'\u001B[39m, fontweight\u001B[38;5;241m=\u001B[39m\u001B[38;5;124m'\u001B[39m\u001B[38;5;124mbold\u001B[39m\u001B[38;5;124m'\u001B[39m)\n\u001B[0;32m     28\u001B[0m plt\u001B[38;5;241m.\u001B[39mxlabel(\u001B[38;5;124m'\u001B[39m\u001B[38;5;124mNumber of Clusters\u001B[39m\u001B[38;5;124m'\u001B[39m)\n",
      "File \u001B[1;32m~\\evolutionary-van-gogh\\venv\\lib\\site-packages\\matplotlib\\pyplot.py:1893\u001B[0m, in \u001B[0;36mxticks\u001B[1;34m(ticks, labels, minor, **kwargs)\u001B[0m\n\u001B[0;32m   1891\u001B[0m         l\u001B[38;5;241m.\u001B[39m_internal_update(kwargs)\n\u001B[0;32m   1892\u001B[0m \u001B[38;5;28;01melse\u001B[39;00m:\n\u001B[1;32m-> 1893\u001B[0m     labels \u001B[38;5;241m=\u001B[39m \u001B[43max\u001B[49m\u001B[38;5;241;43m.\u001B[39;49m\u001B[43mset_xticklabels\u001B[49m\u001B[43m(\u001B[49m\u001B[43mlabels\u001B[49m\u001B[43m,\u001B[49m\u001B[43m \u001B[49m\u001B[43mminor\u001B[49m\u001B[38;5;241;43m=\u001B[39;49m\u001B[43mminor\u001B[49m\u001B[43m,\u001B[49m\u001B[43m \u001B[49m\u001B[38;5;241;43m*\u001B[39;49m\u001B[38;5;241;43m*\u001B[39;49m\u001B[43mkwargs\u001B[49m\u001B[43m)\u001B[49m\n\u001B[0;32m   1895\u001B[0m \u001B[38;5;28;01mreturn\u001B[39;00m locs, labels\n",
      "File \u001B[1;32m~\\evolutionary-van-gogh\\venv\\lib\\site-packages\\matplotlib\\axes\\_base.py:74\u001B[0m, in \u001B[0;36m_axis_method_wrapper.__set_name__.<locals>.wrapper\u001B[1;34m(self, *args, **kwargs)\u001B[0m\n\u001B[0;32m     73\u001B[0m \u001B[38;5;28;01mdef\u001B[39;00m \u001B[38;5;21mwrapper\u001B[39m(\u001B[38;5;28mself\u001B[39m, \u001B[38;5;241m*\u001B[39margs, \u001B[38;5;241m*\u001B[39m\u001B[38;5;241m*\u001B[39mkwargs):\n\u001B[1;32m---> 74\u001B[0m     \u001B[38;5;28;01mreturn\u001B[39;00m \u001B[43mget_method\u001B[49m\u001B[43m(\u001B[49m\u001B[38;5;28;43mself\u001B[39;49m\u001B[43m)\u001B[49m\u001B[43m(\u001B[49m\u001B[38;5;241;43m*\u001B[39;49m\u001B[43margs\u001B[49m\u001B[43m,\u001B[49m\u001B[43m \u001B[49m\u001B[38;5;241;43m*\u001B[39;49m\u001B[38;5;241;43m*\u001B[39;49m\u001B[43mkwargs\u001B[49m\u001B[43m)\u001B[49m\n",
      "File \u001B[1;32m~\\evolutionary-van-gogh\\venv\\lib\\site-packages\\matplotlib\\_api\\deprecation.py:297\u001B[0m, in \u001B[0;36mrename_parameter.<locals>.wrapper\u001B[1;34m(*args, **kwargs)\u001B[0m\n\u001B[0;32m    292\u001B[0m     warn_deprecated(\n\u001B[0;32m    293\u001B[0m         since, message\u001B[38;5;241m=\u001B[39m\u001B[38;5;124mf\u001B[39m\u001B[38;5;124m\"\u001B[39m\u001B[38;5;124mThe \u001B[39m\u001B[38;5;132;01m{\u001B[39;00mold\u001B[38;5;132;01m!r}\u001B[39;00m\u001B[38;5;124m parameter of \u001B[39m\u001B[38;5;132;01m{\u001B[39;00mfunc\u001B[38;5;241m.\u001B[39m\u001B[38;5;18m__name__\u001B[39m\u001B[38;5;132;01m}\u001B[39;00m\u001B[38;5;124m() \u001B[39m\u001B[38;5;124m\"\u001B[39m\n\u001B[0;32m    294\u001B[0m         \u001B[38;5;124mf\u001B[39m\u001B[38;5;124m\"\u001B[39m\u001B[38;5;124mhas been renamed \u001B[39m\u001B[38;5;132;01m{\u001B[39;00mnew\u001B[38;5;132;01m!r}\u001B[39;00m\u001B[38;5;124m since Matplotlib \u001B[39m\u001B[38;5;132;01m{\u001B[39;00msince\u001B[38;5;132;01m}\u001B[39;00m\u001B[38;5;124m; support \u001B[39m\u001B[38;5;124m\"\u001B[39m\n\u001B[0;32m    295\u001B[0m         \u001B[38;5;124mf\u001B[39m\u001B[38;5;124m\"\u001B[39m\u001B[38;5;124mfor the old name will be dropped %(removal)s.\u001B[39m\u001B[38;5;124m\"\u001B[39m)\n\u001B[0;32m    296\u001B[0m     kwargs[new] \u001B[38;5;241m=\u001B[39m kwargs\u001B[38;5;241m.\u001B[39mpop(old)\n\u001B[1;32m--> 297\u001B[0m \u001B[38;5;28;01mreturn\u001B[39;00m \u001B[43mfunc\u001B[49m\u001B[43m(\u001B[49m\u001B[38;5;241;43m*\u001B[39;49m\u001B[43margs\u001B[49m\u001B[43m,\u001B[49m\u001B[43m \u001B[49m\u001B[38;5;241;43m*\u001B[39;49m\u001B[38;5;241;43m*\u001B[39;49m\u001B[43mkwargs\u001B[49m\u001B[43m)\u001B[49m\n",
      "File \u001B[1;32m~\\evolutionary-van-gogh\\venv\\lib\\site-packages\\matplotlib\\axis.py:2018\u001B[0m, in \u001B[0;36mAxis.set_ticklabels\u001B[1;34m(self, labels, minor, fontdict, **kwargs)\u001B[0m\n\u001B[0;32m   2014\u001B[0m \u001B[38;5;28;01mif\u001B[39;00m \u001B[38;5;28misinstance\u001B[39m(locator, mticker\u001B[38;5;241m.\u001B[39mFixedLocator):\n\u001B[0;32m   2015\u001B[0m     \u001B[38;5;66;03m# Passing [] as a list of labels is often used as a way to\u001B[39;00m\n\u001B[0;32m   2016\u001B[0m     \u001B[38;5;66;03m# remove all tick labels, so only error for > 0 labels\u001B[39;00m\n\u001B[0;32m   2017\u001B[0m     \u001B[38;5;28;01mif\u001B[39;00m \u001B[38;5;28mlen\u001B[39m(locator\u001B[38;5;241m.\u001B[39mlocs) \u001B[38;5;241m!=\u001B[39m \u001B[38;5;28mlen\u001B[39m(labels) \u001B[38;5;129;01mand\u001B[39;00m \u001B[38;5;28mlen\u001B[39m(labels) \u001B[38;5;241m!=\u001B[39m \u001B[38;5;241m0\u001B[39m:\n\u001B[1;32m-> 2018\u001B[0m         \u001B[38;5;28;01mraise\u001B[39;00m \u001B[38;5;167;01mValueError\u001B[39;00m(\n\u001B[0;32m   2019\u001B[0m             \u001B[38;5;124m\"\u001B[39m\u001B[38;5;124mThe number of FixedLocator locations\u001B[39m\u001B[38;5;124m\"\u001B[39m\n\u001B[0;32m   2020\u001B[0m             \u001B[38;5;124mf\u001B[39m\u001B[38;5;124m\"\u001B[39m\u001B[38;5;124m (\u001B[39m\u001B[38;5;132;01m{\u001B[39;00m\u001B[38;5;28mlen\u001B[39m(locator\u001B[38;5;241m.\u001B[39mlocs)\u001B[38;5;132;01m}\u001B[39;00m\u001B[38;5;124m), usually from a call to\u001B[39m\u001B[38;5;124m\"\u001B[39m\n\u001B[0;32m   2021\u001B[0m             \u001B[38;5;124m\"\u001B[39m\u001B[38;5;124m set_ticks, does not match\u001B[39m\u001B[38;5;124m\"\u001B[39m\n\u001B[0;32m   2022\u001B[0m             \u001B[38;5;124mf\u001B[39m\u001B[38;5;124m\"\u001B[39m\u001B[38;5;124m the number of labels (\u001B[39m\u001B[38;5;132;01m{\u001B[39;00m\u001B[38;5;28mlen\u001B[39m(labels)\u001B[38;5;132;01m}\u001B[39;00m\u001B[38;5;124m).\u001B[39m\u001B[38;5;124m\"\u001B[39m)\n\u001B[0;32m   2023\u001B[0m     tickd \u001B[38;5;241m=\u001B[39m {loc: lab \u001B[38;5;28;01mfor\u001B[39;00m loc, lab \u001B[38;5;129;01min\u001B[39;00m \u001B[38;5;28mzip\u001B[39m(locator\u001B[38;5;241m.\u001B[39mlocs, labels)}\n\u001B[0;32m   2024\u001B[0m     func \u001B[38;5;241m=\u001B[39m functools\u001B[38;5;241m.\u001B[39mpartial(\u001B[38;5;28mself\u001B[39m\u001B[38;5;241m.\u001B[39m_format_with_dict, tickd)\n",
      "\u001B[1;31mValueError\u001B[0m: The number of FixedLocator locations (15), usually from a call to set_ticks, does not match the number of labels (5)."
     ]
    },
    {
     "data": {
      "text/plain": [
       "<Figure size 640x480 with 1 Axes>"
      ],
      "image/png": "[encoded data removed]"
     },
     "metadata": {},
     "output_type": "display_data"
    }
   ],
   "execution_count": 51
  },
  {
   "metadata": {},
   "cell_type": "code",
   "outputs": [],
   "execution_count": null,
   "source": "",
   "id": "58b6379f3112bad8"
  }
 ],
 "metadata": {
  "kernelspec": {
   "display_name": "Python 3",
   "language": "python",
   "name": "python3"
  },
  "language_info": {
   "codemirror_mode": {
    "name": "ipython",
    "version": 2
   },
   "file_extension": ".py",
   "mimetype": "text/x-python",
   "name": "python",
   "nbconvert_exporter": "python",
   "pygments_lexer": "ipython2",
   "version": "2.7.6"
  }
 },
 "nbformat": 4,
 "nbformat_minor": 5
}
